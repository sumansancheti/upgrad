{
 "cells": [
  {
   "cell_type": "code",
   "execution_count": 7,
   "id": "a79f5c5d-1071-4612-8d3e-35529e51f3db",
   "metadata": {},
   "outputs": [
    {
     "name": "stdout",
     "output_type": "stream",
     "text": [
      "{'name': 'John', 'age': 30}\n",
      "dict_items([('name', 'John'), ('age', 30)])\n",
      "<class 'dict_items'>\n"
     ]
    }
   ],
   "source": [
    "#Retrieving key-value pairs there is .items() , .keys() , .values()\n",
    "person = {'name': 'John', 'age': 30}\n",
    "print(person)\n",
    "print(person.items())\n",
    "print(type(person.items()))\n"
   ]
  },
  {
   "cell_type": "code",
   "execution_count": 17,
   "id": "4b01606a-a759-4c64-b51e-ac33eef8e3a1",
   "metadata": {},
   "outputs": [
    {
     "name": "stdout",
     "output_type": "stream",
     "text": [
      "dict_keys(['name', 'age'])\n",
      "dict_values(['John', 30])\n",
      "<class 'dict_values'>\n",
      "dict_values(['John', 30])\n"
     ]
    }
   ],
   "source": [
    "print(person.keys())\n",
    "print(person.values())\n",
    "print(type(person.values()))\n",
    "print(person.values())"
   ]
  },
  {
   "cell_type": "code",
   "execution_count": 27,
   "id": "a42ad792-bc57-4622-aa68-88f9d0f71745",
   "metadata": {},
   "outputs": [
    {
     "ename": "SyntaxError",
     "evalue": "':' expected after dictionary key (2941453482.py, line 1)",
     "output_type": "error",
     "traceback": [
      "\u001b[1;36m  Cell \u001b[1;32mIn[27], line 1\u001b[1;36m\u001b[0m\n\u001b[1;33m    person1 = {'name': 'John', 'age': 30,{'sex':'m','qulification':'m.com' },'f':5}\u001b[0m\n\u001b[1;37m                                                                           ^\u001b[0m\n\u001b[1;31mSyntaxError\u001b[0m\u001b[1;31m:\u001b[0m ':' expected after dictionary key\n"
     ]
    }
   ],
   "source": [
    "person1 = {'name': 'John', 'age': 30,{'sex':'m','qulification':'m.com' },'f':5}"
   ]
  },
  {
   "cell_type": "code",
   "execution_count": 47,
   "id": "638b015a-91f8-4635-825a-db7104202aa6",
   "metadata": {},
   "outputs": [
    {
     "name": "stdout",
     "output_type": "stream",
     "text": [
      "('eye_color', 'blue')\n",
      "<class 'tuple'>\n",
      "{'name': 'John', 'age': 30}\n",
      "<class 'dict'>\n"
     ]
    }
   ],
   "source": [
    "#popitems()\n",
    "person = {'name': 'John', 'age': 30, 'eye_color': 'blue'}\n",
    "removed_entry = person.popitem()\n",
    "print(removed_entry)\n",
    "print(type(removed_entry))\n",
    "print(person)\n",
    "print(type(person))"
   ]
  },
  {
   "cell_type": "code",
   "execution_count": 59,
   "id": "dccd207a-2d43-42be-8d33-d6e033e34171",
   "metadata": {},
   "outputs": [
    {
     "name": "stdout",
     "output_type": "stream",
     "text": [
      "<class 'list'>\n",
      "{'one': 1, 'two': 2}\n",
      "<class 'dict'>\n"
     ]
    }
   ],
   "source": [
    "#Creating dictionaries from other data structures\n",
    "\n",
    "list_of_tupple = [('one',1),('two',2)]\n",
    "print(type(list_of_tupple))\n",
    "convert_in_dict =dict(list_of_tupple)\n",
    "print(convert_in_dict)\n",
    "print(type(convert_in_dict))"
   ]
  },
  {
   "cell_type": "code",
   "execution_count": 65,
   "id": "9fc3a945-e125-4e22-8988-86597676722d",
   "metadata": {},
   "outputs": [
    {
     "name": "stdout",
     "output_type": "stream",
     "text": [
      "{'name': 'Alice', 'age': 25, 'city': 'London'}\n"
     ]
    }
   ],
   "source": [
    "#Here is how you can create a dictionary from two lists.\n",
    "keys = ['name', 'age', 'city']\n",
    "values = ['Alice', 25, 'London']\n",
    "from_lists_dict = dict(zip(keys, values))\n",
    "print(from_lists_dict)"
   ]
  },
  {
   "cell_type": "code",
   "execution_count": 67,
   "id": "6076b2d6-32cd-4bc7-acdd-32b48a7fec28",
   "metadata": {},
   "outputs": [
    {
     "data": {
      "text/plain": [
       "{'a': 1, 'b': 2, 'c': 3}"
      ]
     },
     "execution_count": 67,
     "metadata": {},
     "output_type": "execute_result"
    }
   ],
   "source": [
    "{\"a\": 1, \"b\": 2, \"c\": 3}"
   ]
  },
  {
   "cell_type": "code",
   "execution_count": 73,
   "id": "fefec478-d442-4d8a-ac5d-30536a90275b",
   "metadata": {},
   "outputs": [
    {
     "name": "stdout",
     "output_type": "stream",
     "text": [
      "<class 'dict'>\n"
     ]
    }
   ],
   "source": [
    "l1 = [\"a\", \"b\", \"c\"]\n",
    "l2 = [1, 2, 3]\n",
    "\n",
    "a=dict(zip(l1, l2))\n",
    "print(type(a))"
   ]
  },
  {
   "cell_type": "code",
   "execution_count": 75,
   "id": "10f4836f-144f-48a3-b36d-12cbae491e77",
   "metadata": {},
   "outputs": [
    {
     "data": {
      "text/plain": [
       "{'a': 1, 'b': 2, 'c': 3}"
      ]
     },
     "execution_count": 75,
     "metadata": {},
     "output_type": "execute_result"
    }
   ],
   "source": [
    "\n",
    "tuple_list = [(\"a\", 1), (\"b\", 2), (\"c\", 3)]\n",
    "\n",
    "dict(tuple_list)"
   ]
  },
  {
   "cell_type": "code",
   "execution_count": 81,
   "id": "1fefd6d9-8870-4f29-9ab6-d8dcb8bd118d",
   "metadata": {},
   "outputs": [
    {
     "data": {
      "text/plain": [
       "{'a': 1, 'b': 2, 'c': 3}"
      ]
     },
     "execution_count": 81,
     "metadata": {},
     "output_type": "execute_result"
    }
   ],
   "source": [
    "list_of_lists = [[\"a\", 1], [\"b\", 2], [\"c\", 3]]\n",
    "\n",
    "dict(list_of_lists)"
   ]
  },
  {
   "cell_type": "code",
   "execution_count": 83,
   "id": "6becedcf-27de-4e66-9e8a-9a4c8dd84f7a",
   "metadata": {},
   "outputs": [
    {
     "data": {
      "text/plain": [
       "{'a': 1, 'b': 2, 'c': 3}"
      ]
     },
     "execution_count": 83,
     "metadata": {},
     "output_type": "execute_result"
    }
   ],
   "source": [
    "l1 = (\"a\", \"b\", \"c\")\n",
    "l2 = (1, 2, 3)\n",
    "\n",
    "dict(zip(l1, l2))"
   ]
  },
  {
   "cell_type": "code",
   "execution_count": 97,
   "id": "cbf763ed-9588-4933-be94-fd956b329aeb",
   "metadata": {},
   "outputs": [
    {
     "data": {
      "text/plain": [
       "'g'"
      ]
     },
     "execution_count": 97,
     "metadata": {},
     "output_type": "execute_result"
    }
   ],
   "source": [
    "string = 'upgrad learning'\n",
    "#string[::-1]\n",
    "#tring[-1:-14]\n",
    "#string[-15:-1]\n",
    "string[::-15]"
   ]
  },
  {
   "cell_type": "code",
   "execution_count": 99,
   "id": "7d21be4f-4cb4-4cdf-bfbf-4bf064faae30",
   "metadata": {},
   "outputs": [
    {
     "ename": "AttributeError",
     "evalue": "'list' object has no attribute 'join'",
     "output_type": "error",
     "traceback": [
      "\u001b[1;31m---------------------------------------------------------------------------\u001b[0m",
      "\u001b[1;31mAttributeError\u001b[0m                            Traceback (most recent call last)",
      "Cell \u001b[1;32mIn[99], line 2\u001b[0m\n\u001b[0;32m      1\u001b[0m some_str \u001b[38;5;241m=\u001b[39m \u001b[38;5;124m\"\u001b[39m\u001b[38;5;124m1234-5678-9000\u001b[39m\u001b[38;5;124m\"\u001b[39m\n\u001b[1;32m----> 2\u001b[0m some_str\u001b[38;5;241m.\u001b[39msplit(\u001b[38;5;124m\"\u001b[39m\u001b[38;5;124m-\u001b[39m\u001b[38;5;124m\"\u001b[39m)\u001b[38;5;241m.\u001b[39mjoin(\u001b[38;5;124m\"\u001b[39m\u001b[38;5;124m \u001b[39m\u001b[38;5;124m\"\u001b[39m)\n",
      "\u001b[1;31mAttributeError\u001b[0m: 'list' object has no attribute 'join'"
     ]
    }
   ],
   "source": [
    "some_str = \"1234-5678-9000\"\n",
    "some_str.split(\"-\").join(\" \")"
   ]
  },
  {
   "cell_type": "code",
   "execution_count": 115,
   "id": "89b1565c-b140-4671-9586-d9023454daa7",
   "metadata": {},
   "outputs": [
    {
     "data": {
      "text/plain": [
       "\"['1234', '5678', '9000']\""
      ]
     },
     "execution_count": 115,
     "metadata": {},
     "output_type": "execute_result"
    }
   ],
   "source": [
    "str(some_str.split(\"-\"))"
   ]
  },
  {
   "cell_type": "code",
   "execution_count": 117,
   "id": "c2a31f43-ee27-4dd2-9f0d-6c270e25a977",
   "metadata": {},
   "outputs": [
    {
     "data": {
      "text/plain": [
       "'1234 5678 9000'"
      ]
     },
     "execution_count": 117,
     "metadata": {},
     "output_type": "execute_result"
    }
   ],
   "source": [
    "\" \".join(some_str.split(\"-\"))"
   ]
  },
  {
   "cell_type": "code",
   "execution_count": 119,
   "id": "b2e415f6-9af6-4602-b02d-dbc670a19ae4",
   "metadata": {},
   "outputs": [
    {
     "data": {
      "text/plain": [
       "'gnizama si '"
      ]
     },
     "execution_count": 119,
     "metadata": {},
     "output_type": "execute_result"
    }
   ],
   "source": [
    "inp = 'Python is amazing'\n",
    "inp[:5:-1]"
   ]
  },
  {
   "cell_type": "code",
   "execution_count": 131,
   "id": "314750c2-f34b-4221-92f0-225ebdfe78d1",
   "metadata": {},
   "outputs": [
    {
     "name": "stdout",
     "output_type": "stream",
     "text": [
      "Data Science\n"
     ]
    }
   ],
   "source": [
    "input_str=\"data science\"\n",
    "#o=input_str.()\n",
    "o=input_str.title()\n",
    "print(o)"
   ]
  },
  {
   "cell_type": "code",
   "execution_count": 133,
   "id": "34b204d0-5bc6-41af-9ab7-f735469477cd",
   "metadata": {},
   "outputs": [
    {
     "ename": "NameError",
     "evalue": "name 'Python' is not defined",
     "output_type": "error",
     "traceback": [
      "\u001b[1;31m---------------------------------------------------------------------------\u001b[0m",
      "\u001b[1;31mNameError\u001b[0m                                 Traceback (most recent call last)",
      "Cell \u001b[1;32mIn[133], line 1\u001b[0m\n\u001b[1;32m----> 1\u001b[0m \u001b[38;5;28mstr\u001b[39m\u001b[38;5;241m=\u001b[39mPython\n\u001b[0;32m      2\u001b[0m \u001b[38;5;28mprint\u001b[39m(\u001b[38;5;28mlen\u001b[39m(\u001b[38;5;28mstr\u001b[39m))\n",
      "\u001b[1;31mNameError\u001b[0m: name 'Python' is not defined"
     ]
    }
   ],
   "source": [
    "str=Python\n",
    "print(len(str))"
   ]
  },
  {
   "cell_type": "code",
   "execution_count": 135,
   "id": "e77cbd5e-1ef0-44a8-ae7d-ee39af56b1be",
   "metadata": {},
   "outputs": [
    {
     "name": "stdout",
     "output_type": "stream",
     "text": [
      "1\n"
     ]
    }
   ],
   "source": [
    "str = \"Data Science\"\n",
    "print(str.count('D'))"
   ]
  },
  {
   "cell_type": "code",
   "execution_count": 137,
   "id": "c6c1e7d0-9148-4f16-8990-2e44aaac5b8b",
   "metadata": {},
   "outputs": [
    {
     "data": {
      "text/plain": [
       "'split'"
      ]
     },
     "execution_count": 137,
     "metadata": {},
     "output_type": "execute_result"
    }
   ],
   "source": [
    "sentence = 'This sentence needs to be split into words'\n",
    "sentence[-16:-11]"
   ]
  },
  {
   "cell_type": "code",
   "execution_count": 139,
   "id": "d03d0666-ee5a-4056-874c-7dc2a2a00956",
   "metadata": {},
   "outputs": [
    {
     "data": {
      "text/plain": [
       "' split'"
      ]
     },
     "execution_count": 139,
     "metadata": {},
     "output_type": "execute_result"
    }
   ],
   "source": [
    "sentence[-17:-11]"
   ]
  },
  {
   "cell_type": "code",
   "execution_count": 141,
   "id": "a5c86bdd-a912-408e-bc0d-adbb4bd316fd",
   "metadata": {},
   "outputs": [
    {
     "data": {
      "text/plain": [
       "'split'"
      ]
     },
     "execution_count": 141,
     "metadata": {},
     "output_type": "execute_result"
    }
   ],
   "source": [
    "sentence.split()[5]"
   ]
  },
  {
   "cell_type": "code",
   "execution_count": 143,
   "id": "414bd1ff-af03-4175-9aaa-5f24d80526b5",
   "metadata": {},
   "outputs": [
    {
     "data": {
      "text/plain": [
       "'split'"
      ]
     },
     "execution_count": 143,
     "metadata": {},
     "output_type": "execute_result"
    }
   ],
   "source": [
    "\n",
    "sentence[26:31]"
   ]
  },
  {
   "cell_type": "code",
   "execution_count": 149,
   "id": "43cb84b8-9af1-4742-8ae6-5b688c0706b2",
   "metadata": {},
   "outputs": [
    {
     "ename": "TypeError",
     "evalue": "'str' object is not callable",
     "output_type": "error",
     "traceback": [
      "\u001b[1;31m---------------------------------------------------------------------------\u001b[0m",
      "\u001b[1;31mTypeError\u001b[0m                                 Traceback (most recent call last)",
      "Cell \u001b[1;32mIn[149], line 2\u001b[0m\n\u001b[0;32m      1\u001b[0m a \u001b[38;5;241m=\u001b[39m \u001b[38;5;124m'\u001b[39m\u001b[38;5;124mpython\u001b[39m\u001b[38;5;124m'\u001b[39m\n\u001b[1;32m----> 2\u001b[0m \u001b[38;5;28mprint\u001b[39m(\u001b[38;5;28mlen\u001b[39m(a))\n",
      "\u001b[1;31mTypeError\u001b[0m: 'str' object is not callable"
     ]
    }
   ],
   "source": [
    "a = 'python'\n",
    "print(len(a))"
   ]
  },
  {
   "cell_type": "code",
   "execution_count": 151,
   "id": "5d891c42-318b-45b3-b971-9f147d4f709e",
   "metadata": {},
   "outputs": [
    {
     "ename": "TypeError",
     "evalue": "'str' object is not callable",
     "output_type": "error",
     "traceback": [
      "\u001b[1;31m---------------------------------------------------------------------------\u001b[0m",
      "\u001b[1;31mTypeError\u001b[0m                                 Traceback (most recent call last)",
      "Cell \u001b[1;32mIn[151], line 2\u001b[0m\n\u001b[0;32m      1\u001b[0m a\u001b[38;5;241m=\u001b[39m\u001b[38;5;124m'\u001b[39m\u001b[38;5;124mggg\u001b[39m\u001b[38;5;124m'\u001b[39m\n\u001b[1;32m----> 2\u001b[0m \u001b[38;5;28mprint\u001b[39m(\u001b[38;5;28mlen\u001b[39m(a))\n",
      "\u001b[1;31mTypeError\u001b[0m: 'str' object is not callable"
     ]
    }
   ],
   "source": [
    "a='ggg'\n",
    "print(len(a))"
   ]
  },
  {
   "cell_type": "code",
   "execution_count": 157,
   "id": "47bd80bf-e3e7-45d9-b790-b3157834e702",
   "metadata": {},
   "outputs": [
    {
     "data": {
      "text/plain": [
       "'pyTHon'"
      ]
     },
     "execution_count": 157,
     "metadata": {},
     "output_type": "execute_result"
    }
   ],
   "source": [
    " \"pyTHon\".strip()"
   ]
  },
  {
   "cell_type": "code",
   "execution_count": 159,
   "id": "5f4a2323-3d20-410b-a117-3be1becd3eb5",
   "metadata": {},
   "outputs": [
    {
     "data": {
      "text/plain": [
       "'pyTHon'"
      ]
     },
     "execution_count": 159,
     "metadata": {},
     "output_type": "execute_result"
    }
   ],
   "source": [
    "\" pyTHon\".strip()"
   ]
  },
  {
   "cell_type": "code",
   "execution_count": 161,
   "id": "0fc8def1-7626-4a02-8449-f24d9b9dc17e",
   "metadata": {},
   "outputs": [],
   "source": [
    "\n",
    "\n",
    "code = \"Python is fun\""
   ]
  },
  {
   "cell_type": "code",
   "execution_count": 165,
   "id": "19add1d0-a1b7-48a6-9d18-61012339edee",
   "metadata": {},
   "outputs": [
    {
     "ename": "ValueError",
     "evalue": "substring not found",
     "output_type": "error",
     "traceback": [
      "\u001b[1;31m---------------------------------------------------------------------------\u001b[0m",
      "\u001b[1;31mValueError\u001b[0m                                Traceback (most recent call last)",
      "Cell \u001b[1;32mIn[165], line 1\u001b[0m\n\u001b[1;32m----> 1\u001b[0m code\u001b[38;5;241m.\u001b[39mindex(\u001b[38;5;124m'\u001b[39m\u001b[38;5;124mjava\u001b[39m\u001b[38;5;124m'\u001b[39m)\n",
      "\u001b[1;31mValueError\u001b[0m: substring not found"
     ]
    }
   ],
   "source": [
    "code.index('java')"
   ]
  },
  {
   "cell_type": "code",
   "execution_count": null,
   "id": "d8ba8704-64ac-4be3-b1cf-22f7f0a25959",
   "metadata": {},
   "outputs": [],
   "source": []
  }
 ],
 "metadata": {
  "kernelspec": {
   "display_name": "Python 3 (ipykernel)",
   "language": "python",
   "name": "python3"
  },
  "language_info": {
   "codemirror_mode": {
    "name": "ipython",
    "version": 3
   },
   "file_extension": ".py",
   "mimetype": "text/x-python",
   "name": "python",
   "nbconvert_exporter": "python",
   "pygments_lexer": "ipython3",
   "version": "3.12.4"
  }
 },
 "nbformat": 4,
 "nbformat_minor": 5
}
