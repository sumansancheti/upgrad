{
 "cells": [
  {
   "cell_type": "code",
   "execution_count": 1,
   "id": "73723f3e-5bc0-4068-8cb6-a5e9df071ea1",
   "metadata": {},
   "outputs": [
    {
     "name": "stdout",
     "output_type": "stream",
     "text": [
      "4\n"
     ]
    }
   ],
   "source": [
    "nums = set([1,1,2,3,3,3,4])\n",
    "print(len(nums)) "
   ]
  },
  {
   "cell_type": "code",
   "execution_count": null,
   "id": "13e844fa-ce9d-49fe-8979-c135bd196c31",
   "metadata": {},
   "outputs": [],
   "source": []
  }
 ],
 "metadata": {
  "kernelspec": {
   "display_name": "Python 3 (ipykernel)",
   "language": "python",
   "name": "python3"
  },
  "language_info": {
   "codemirror_mode": {
    "name": "ipython",
    "version": 3
   },
   "file_extension": ".py",
   "mimetype": "text/x-python",
   "name": "python",
   "nbconvert_exporter": "python",
   "pygments_lexer": "ipython3",
   "version": "3.12.4"
  }
 },
 "nbformat": 4,
 "nbformat_minor": 5
}
