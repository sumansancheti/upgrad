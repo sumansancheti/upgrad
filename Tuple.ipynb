{
 "cells": [
  {
   "cell_type": "code",
   "execution_count": 5,
   "id": "90f4d041-3f60-45b1-a647-382a81054acb",
   "metadata": {},
   "outputs": [
    {
     "name": "stdout",
     "output_type": "stream",
     "text": [
      "()\n",
      "<class 'tuple'>\n"
     ]
    }
   ],
   "source": [
    "#Creating empty tuples\n",
    "empty_tuple=()\n",
    "print(empty_tuple)\n",
    "print(type(empty_tuple))"
   ]
  },
  {
   "cell_type": "code",
   "execution_count": 9,
   "id": "edf9d3fc-3f6b-47c1-bfac-117a4d4702d5",
   "metadata": {},
   "outputs": [
    {
     "name": "stdout",
     "output_type": "stream",
     "text": [
      "('red', 'green', 'blue')\n"
     ]
    }
   ],
   "source": [
    "#Creating tuples with items\n",
    "color_tuple = ('red', 'green', 'blue')\n",
    "print(color_tuple)"
   ]
  },
  {
   "cell_type": "code",
   "execution_count": 11,
   "id": "ba49a95d-1e99-4626-b953-246a0360ad6f",
   "metadata": {},
   "outputs": [
    {
     "name": "stdout",
     "output_type": "stream",
     "text": [
      "<class 'tuple'>\n",
      "(1,)\n"
     ]
    }
   ],
   "source": [
    "#for single-item tuples, a trailing comma is required\n",
    "my_tuple = (1,)\n",
    "print(type(my_tuple))\n",
    "print(my_tuple)"
   ]
  },
  {
   "cell_type": "code",
   "execution_count": 13,
   "id": "f1377f3e-811a-4cbb-8239-fc11cc75bb1e",
   "metadata": {},
   "outputs": [
    {
     "name": "stdout",
     "output_type": "stream",
     "text": [
      "<class 'int'>\n",
      "1\n"
     ]
    }
   ],
   "source": [
    "#if u don't give , then check the type\n",
    "my_value= (1)\n",
    "print(type(my_value))\n",
    "print(my_value)"
   ]
  },
  {
   "cell_type": "code",
   "execution_count": 19,
   "id": "ee17cc6e-6747-49f7-a537-c4ad028b9d43",
   "metadata": {},
   "outputs": [
    {
     "name": "stdout",
     "output_type": "stream",
     "text": [
      "()\n",
      "<class 'tuple'>\n"
     ]
    }
   ],
   "source": [
    "#Creating tuples using the tuple constructor  tuple()\n",
    "empty_tuple2 = tuple()\n",
    "print(empty_tuple2)\n",
    "print(type(empty_tuple2))"
   ]
  },
  {
   "cell_type": "code",
   "execution_count": 29,
   "id": "1ea7f0d6-9e37-4ed3-870c-076427486de2",
   "metadata": {},
   "outputs": [
    {
     "name": "stdout",
     "output_type": "stream",
     "text": [
      "('h', 'e', 'l', 'l', 'o')\n"
     ]
    }
   ],
   "source": [
    "#You can convert a string to a tuple by passing the string as an argument to the tuple() constructor.\n",
    "my_string = 'hello'\n",
    "my_tuple =tuple(my_string)\n",
    "print(my_tuple)\n",
    "#In my_tuple Each character of the string becomes an individual item in the tuple."
   ]
  },
  {
   "cell_type": "code",
   "execution_count": 37,
   "id": "cbb47c94-6240-469a-913d-86e55a46f269",
   "metadata": {},
   "outputs": [
    {
     "name": "stdout",
     "output_type": "stream",
     "text": [
      "h\n",
      "e\n",
      "l\n",
      "l\n",
      "o\n"
     ]
    }
   ],
   "source": [
    "#if you do scailcing or want to know particular index use []\n",
    "print(my_tuple[0])\n",
    "print(my_tuple[1])\n",
    "print(my_tuple[2])\n",
    "print(my_tuple[3])\n",
    "print(my_tuple[4])\n",
    "#in index 5 there is error occurce bcz out of range\n",
    "#print(my_tuple[5])"
   ]
  },
  {
   "cell_type": "code",
   "execution_count": 39,
   "id": "02182eb3-d746-4c5c-9e29-dff488c60895",
   "metadata": {},
   "outputs": [
    {
     "name": "stdout",
     "output_type": "stream",
     "text": [
      "(1, 2, 3)\n",
      "<class 'tuple'>\n"
     ]
    }
   ],
   "source": [
    "#You can also convert a list to a tuple by passing the list as an argument to the tuple() constructor.\n",
    "list_example = [1, 2, 3]\n",
    "tuple_from_list = tuple(list_example)\n",
    "print(tuple_from_list)\n",
    "print(type(tuple_from_list))"
   ]
  },
  {
   "cell_type": "code",
   "execution_count": 3,
   "id": "4fc851e5-edc5-4da4-8683-f034cd305c2f",
   "metadata": {},
   "outputs": [
    {
     "name": "stdout",
     "output_type": "stream",
     "text": [
      "<class 'tuple'>\n"
     ]
    }
   ],
   "source": [
    "list1 = [1, 2, 3]\n",
    "list2 = ['a', 'b', 'c']\n",
    "zipped = tuple(zip(list1, list2))\n",
    "print(type(zipped))"
   ]
  },
  {
   "cell_type": "code",
   "execution_count": 5,
   "id": "512d0904-79c8-4504-875e-87479d361b3e",
   "metadata": {},
   "outputs": [
    {
     "name": "stdout",
     "output_type": "stream",
     "text": [
      "3\n"
     ]
    }
   ],
   "source": [
    "print(len(zipped))"
   ]
  },
  {
   "cell_type": "code",
   "execution_count": 15,
   "id": "88c7de29-7294-44a1-b48e-97110b1a8ccb",
   "metadata": {},
   "outputs": [
    {
     "ename": "SyntaxError",
     "evalue": "multiple starred expressions in assignment (3584449300.py, line 2)",
     "output_type": "error",
     "traceback": [
      "\u001b[1;36m  Cell \u001b[1;32mIn[15], line 2\u001b[1;36m\u001b[0m\n\u001b[1;33m    *date_1, *date_2 = exp_dates\u001b[0m\n\u001b[1;37m    ^\u001b[0m\n\u001b[1;31mSyntaxError\u001b[0m\u001b[1;31m:\u001b[0m multiple starred expressions in assignment\n"
     ]
    }
   ],
   "source": [
    "exp_dates = ('2023-01-01', '2023-02-01', '2023-03-01', '2023-04-01', '2023-05-01') \n",
    "*date_1, *date_2 = exp_dates\n",
    "print(exp_dates)"
   ]
  },
  {
   "cell_type": "code",
   "execution_count": 17,
   "id": "731738a8-0648-4065-97f4-066cc78ba817",
   "metadata": {},
   "outputs": [
    {
     "name": "stdout",
     "output_type": "stream",
     "text": [
      "10\n"
     ]
    }
   ],
   "source": [
    "weight_of_rabbits = {1.5, 2.0, 1.8, 2.2, 1.9, 1.7, 2.5, 1.9, 2.1, 2.3, 2.0, 2.4}\n",
    "print(len(weight_of_rabbits))"
   ]
  },
  {
   "cell_type": "code",
   "execution_count": 27,
   "id": "8b4eec92-52ba-4337-b8e9-083282786873",
   "metadata": {},
   "outputs": [
    {
     "name": "stdout",
     "output_type": "stream",
     "text": [
      "{'Tanveer', 'Rashi', 'Manoj', 'Sanju', 'Eric'}\n"
     ]
    }
   ],
   "source": [
    "current_emp_names = {'Aditya', 'Manoj', 'Eric', 'Sanju', 'Tanveer'}\n",
    "\n",
    "\n",
    "current_emp_names.add('Rashi')\n",
    "current_emp_names.remove('Aditya')\n",
    "print(current_emp_names)"
   ]
  },
  {
   "cell_type": "code",
   "execution_count": null,
   "id": "2f566528-8ede-4dfe-9eda-692afc6d405e",
   "metadata": {},
   "outputs": [],
   "source": [
    "credit_card = {'Rahul', 'Priya', 'Amit', 'Ananya', 'Raj', 'Kunal'}\n",
    "loan = {'Sonia', 'Vikram', 'Neha', 'Kunal', 'Anjali', 'Rahul'}"
   ]
  },
  {
   "cell_type": "code",
   "execution_count": 31,
   "id": "08c4d3f0-b7d7-4a8f-8138-1ee409044657",
   "metadata": {},
   "outputs": [
    {
     "name": "stdout",
     "output_type": "stream",
     "text": [
      "Essential expense\n"
     ]
    }
   ],
   "source": [
    "expense_category = 'Groceries'\n",
    "\n",
    "match expense_category:\n",
    "    case 'Groceries' | 'Utilities': print('Essential expense')\n",
    "    case 'Dining out' | 'Entertainment': print('Non-essential expense')\n",
    "    case _: print('Other expense')"
   ]
  },
  {
   "cell_type": "code",
   "execution_count": 33,
   "id": "cbea3a44-4674-4c7f-a9cc-56a7ade8cdd9",
   "metadata": {},
   "outputs": [
    {
     "name": "stdout",
     "output_type": "stream",
     "text": [
      "This is statement number 0\n",
      "This is statement number 1\n",
      "This is statement number 2\n",
      "This is statement number 3\n",
      "This is statement number 4\n"
     ]
    }
   ],
   "source": [
    "is_running = True\n",
    "count = 0\n",
    "while is_running:\n",
    "    print('This is statement number', count)\n",
    "    count += 1\n",
    "    if count >= 5:\n",
    "        is_running = False"
   ]
  },
  {
   "cell_type": "code",
   "execution_count": null,
   "id": "475567b5-fda8-43bf-8f7c-d3140b00b1b7",
   "metadata": {},
   "outputs": [],
   "source": []
  }
 ],
 "metadata": {
  "kernelspec": {
   "display_name": "Python 3 (ipykernel)",
   "language": "python",
   "name": "python3"
  },
  "language_info": {
   "codemirror_mode": {
    "name": "ipython",
    "version": 3
   },
   "file_extension": ".py",
   "mimetype": "text/x-python",
   "name": "python",
   "nbconvert_exporter": "python",
   "pygments_lexer": "ipython3",
   "version": "3.12.4"
  }
 },
 "nbformat": 4,
 "nbformat_minor": 5
}
