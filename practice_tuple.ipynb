{
 "cells": [
  {
   "cell_type": "code",
   "execution_count": 1,
   "id": "8b015360-2230-451b-a02a-f34c9014ebf8",
   "metadata": {},
   "outputs": [
    {
     "name": "stdout",
     "output_type": "stream",
     "text": [
      "<class 'list'>\n"
     ]
    }
   ],
   "source": [
    "list=['name',34,67.89,True]\n",
    "print(type(list))"
   ]
  },
  {
   "cell_type": "code",
   "execution_count": 11,
   "id": "0bf7d0d6-19d8-4e08-988f-1c6aada783f0",
   "metadata": {},
   "outputs": [
    {
     "name": "stdout",
     "output_type": "stream",
     "text": [
      "89\n",
      "<class 'int'>\n",
      "[89]\n",
      "<class 'list'>\n"
     ]
    }
   ],
   "source": [
    "#The following question is similar to the ones that can be asked in interviews at companies such as KPMG\n",
    "#and CRG Solutions for the data analyst role. Make sure to attempt this question!\n",
    "#Select the correct way from the given options to fetch 89 from the following list:\n",
    "list1=[45,34,[35,76,[89],0,-1]]\n",
    "print(list1[2][2][0])\n",
    "print(type(list1[2][2][0]))\n",
    "print(list1[2][2])\n",
    "print(type(list1[2][2]))"
   ]
  },
  {
   "cell_type": "code",
   "execution_count": 13,
   "id": "88fb5bd1-1829-4eae-9097-8504970179d7",
   "metadata": {},
   "outputs": [
    {
     "name": "stdout",
     "output_type": "stream",
     "text": [
      "[35, 76, [89], 0, -1]\n"
     ]
    }
   ],
   "source": [
    "print(list1[-1])"
   ]
  },
  {
   "cell_type": "code",
   "execution_count": 15,
   "id": "29a3801d-55b0-469d-b7fd-1bd4fd84f571",
   "metadata": {},
   "outputs": [
    {
     "name": "stdout",
     "output_type": "stream",
     "text": [
      "[5, 15, 25, 35, 10, 20, 30]\n",
      "[5, 10, 15, 20, 25, 30, 35]\n"
     ]
    }
   ],
   "source": [
    "some_list = [5, 10, 15, 20, 25, 30, 35]\n",
    "new_list = some_list[0::2] + some_list[1::2]\n",
    "print(new_list)\n",
    "print(some_list)"
   ]
  },
  {
   "cell_type": "code",
   "execution_count": 19,
   "id": "a3060d48-b9cc-4a82-b204-6b9e40da3453",
   "metadata": {},
   "outputs": [
    {
     "name": "stdout",
     "output_type": "stream",
     "text": [
      "3.875\n"
     ]
    }
   ],
   "source": [
    "#Which option would give the average of the following list?\n",
    "list1 = [1,1,3,5,6,7,5,3]\n",
    "avg=(sum(list1)/len(list1))\n",
    "print(avg)"
   ]
  },
  {
   "cell_type": "code",
   "execution_count": 62,
   "id": "df25e5fd-43a5-41e0-9275-beac430063d4",
   "metadata": {},
   "outputs": [],
   "source": [
    "\n",
    "list1 = [1, 2, 40, 50, 80, 3, 4]\n"
   ]
  },
  {
   "cell_type": "code",
   "execution_count": 54,
   "id": "6751ada7-489a-4f55-add8-f256b5f10ad7",
   "metadata": {},
   "outputs": [
    {
     "data": {
      "text/plain": [
       "[80, 50]"
      ]
     },
     "execution_count": 54,
     "metadata": {},
     "output_type": "execute_result"
    }
   ],
   "source": [
    "list2 = [max(list1)]\n",
    "list1.remove(max(list1))\n",
    "list2.append(max(list1))\n",
    "list2"
   ]
  },
  {
   "cell_type": "code",
   "execution_count": 58,
   "id": "dfd2babd-fd47-4f79-a720-a35115965211",
   "metadata": {},
   "outputs": [
    {
     "data": {
      "text/plain": [
       "[80, 50]"
      ]
     },
     "execution_count": 58,
     "metadata": {},
     "output_type": "execute_result"
    }
   ],
   "source": [
    "list2 = [max(list1)]\n",
    "list1.remove(max(list1))\n",
    "list2 += [max(list1)]\n",
    "list2"
   ]
  },
  {
   "cell_type": "code",
   "execution_count": 64,
   "id": "9c79a934-2659-406b-881c-6a1b691352e0",
   "metadata": {},
   "outputs": [
    {
     "data": {
      "text/plain": [
       "[80, 50]"
      ]
     },
     "execution_count": 64,
     "metadata": {},
     "output_type": "execute_result"
    }
   ],
   "source": [
    "sorted(list1, reverse=True)[:2]"
   ]
  },
  {
   "cell_type": "code",
   "execution_count": 66,
   "id": "2e4f4a1e-8154-4ee6-a412-25e358713fb9",
   "metadata": {},
   "outputs": [
    {
     "data": {
      "text/plain": [
       "[80, 50]"
      ]
     },
     "execution_count": 66,
     "metadata": {},
     "output_type": "execute_result"
    }
   ],
   "source": [
    "sorted(list1)[-2:][::-1]"
   ]
  },
  {
   "cell_type": "code",
   "execution_count": 72,
   "id": "f6f2d4aa-b7a4-45c8-87d5-0f2b1d60a5e3",
   "metadata": {},
   "outputs": [
    {
     "name": "stdout",
     "output_type": "stream",
     "text": [
      "['Python', 'Java', 'Spark', 'C', 'C++', 'C#']\n"
     ]
    }
   ],
   "source": [
    "list1=['Python','Java','Spark']\n",
    "list2=['C','C++','C#']\n",
    "list1.extend(list2)\n",
    "print(list1)"
   ]
  },
  {
   "cell_type": "code",
   "execution_count": 74,
   "id": "eb0626ff-f683-42c0-85e4-15e60b286a4b",
   "metadata": {},
   "outputs": [
    {
     "name": "stdout",
     "output_type": "stream",
     "text": [
      "[5, 2, 4]\n"
     ]
    }
   ],
   "source": [
    "#What will be the output of the following pseudocode?\n",
    "\n",
    "#Initialise an empty list.\n",
    "#Add a new element 5 in the list.\n",
    "#Add the first three multiples of 2 in the list at the end.\n",
    "#Remove the last element.\n",
    "#print the list.\n",
    "\n",
    "ls=[]\n",
    "ls.append(5)\n",
    "ls.extend([2,4,6])\n",
    "ls.pop()\n",
    "print(ls)"
   ]
  },
  {
   "cell_type": "code",
   "execution_count": 88,
   "id": "bb68651e-dd35-42fc-a3e9-a71904683907",
   "metadata": {},
   "outputs": [
    {
     "name": "stdout",
     "output_type": "stream",
     "text": [
      "[2, 4, 6, 8, 0, 1, 9, 7, 5, 3]\n",
      "[3, 5, 7, 9, 1]\n",
      "None\n",
      "9\n"
     ]
    }
   ],
   "source": [
    "list1=[2,4,6,8,0]\n",
    "list2=[3,5,7,9,1]\n",
    "list1.extend(list2[::-1])\n",
    "print(list1)\n",
    "print(list2)\n",
    "sorted=list1.sort()\n",
    "print(sorted)\n",
    "print(list1.pop())"
   ]
  },
  {
   "cell_type": "code",
   "execution_count": 94,
   "id": "775d1a14-35c2-4776-9f11-01c0335e1638",
   "metadata": {},
   "outputs": [
    {
     "name": "stdout",
     "output_type": "stream",
     "text": [
      "9\n"
     ]
    }
   ],
   "source": [
    "#What will be the output of the following code?   \n",
    "list1=[2,4,6,8,0]\n",
    "list2=[3,5,7,9,1]\n",
    "list1.extend(list2[::-1])\n",
    "list1.sort()\n",
    "print(list1.pop())\n",
    "\n",
    "\n",
    "\n",
    "###List1 and List2 are defined as two lists containing integers.\n"
   ]
  },
  {
   "cell_type": "code",
   "execution_count": 120,
   "id": "847f8da5-fd11-4284-8baf-67099738c4eb",
   "metadata": {},
   "outputs": [
    {
     "ename": "TypeError",
     "evalue": "'NoneType' object is not callable",
     "output_type": "error",
     "traceback": [
      "\u001b[1;31m---------------------------------------------------------------------------\u001b[0m",
      "\u001b[1;31mTypeError\u001b[0m                                 Traceback (most recent call last)",
      "Cell \u001b[1;32mIn[120], line 3\u001b[0m\n\u001b[0;32m      1\u001b[0m \u001b[38;5;66;03m#sorted list\u001b[39;00m\n\u001b[0;32m      2\u001b[0m live\u001b[38;5;241m=\u001b[39m[\u001b[38;5;124m'\u001b[39m\u001b[38;5;124mone\u001b[39m\u001b[38;5;124m'\u001b[39m,\u001b[38;5;124m'\u001b[39m\u001b[38;5;124mtwo\u001b[39m\u001b[38;5;124m'\u001b[39m,\u001b[38;5;124m'\u001b[39m\u001b[38;5;124mthree\u001b[39m\u001b[38;5;124m'\u001b[39m, \u001b[38;5;124m'\u001b[39m\u001b[38;5;124mfour\u001b[39m\u001b[38;5;124m'\u001b[39m, \u001b[38;5;124m'\u001b[39m\u001b[38;5;124mfive\u001b[39m\u001b[38;5;124m'\u001b[39m, \u001b[38;5;124m'\u001b[39m\u001b[38;5;124msix\u001b[39m\u001b[38;5;124m'\u001b[39m]\n\u001b[1;32m----> 3\u001b[0m \u001b[38;5;28mprint\u001b[39m(\u001b[38;5;28msorted\u001b[39m(live))\n",
      "\u001b[1;31mTypeError\u001b[0m: 'NoneType' object is not callable"
     ]
    }
   ],
   "source": [
    "#sorted list\n",
    "live=['one','two','three', 'four', 'five', 'six']\n",
    "print(sorted(live))"
   ]
  },
  {
   "cell_type": "code",
   "execution_count": 124,
   "id": "2f7a5742-a05c-4a99-bbdf-a2c4e97e9199",
   "metadata": {},
   "outputs": [
    {
     "data": {
      "text/plain": [
       "['Tableau', 'SQL']"
      ]
     },
     "execution_count": 124,
     "metadata": {},
     "output_type": "execute_result"
    }
   ],
   "source": [
    "input_list =  [['SAS','R'],['Tableau','SQL'],['Python','Java']]\n",
    "input_list[1]"
   ]
  },
  {
   "cell_type": "code",
   "execution_count": 126,
   "id": "1a880d5f-f917-4545-875e-ec26440a40c4",
   "metadata": {},
   "outputs": [
    {
     "name": "stdout",
     "output_type": "stream",
     "text": [
      "6\n"
     ]
    }
   ],
   "source": [
    "l = [32, 34, 12, 27, 33]\n",
    "l.append([14, 19])\n",
    "print(len(l))"
   ]
  },
  {
   "cell_type": "code",
   "execution_count": 134,
   "id": "6bc8ba67-5e7c-4498-b661-8aa9903eeddb",
   "metadata": {},
   "outputs": [
    {
     "name": "stdout",
     "output_type": "stream",
     "text": [
      "[32, 34, 12, 27, 33, [14, 19]]\n"
     ]
    }
   ],
   "source": [
    "print(l)"
   ]
  },
  {
   "cell_type": "code",
   "execution_count": 136,
   "id": "85d2a974-a916-4f21-a177-79687345830a",
   "metadata": {},
   "outputs": [
    {
     "ename": "TypeError",
     "evalue": "'NoneType' object is not callable",
     "output_type": "error",
     "traceback": [
      "\u001b[1;31m---------------------------------------------------------------------------\u001b[0m",
      "\u001b[1;31mTypeError\u001b[0m                                 Traceback (most recent call last)",
      "Cell \u001b[1;32mIn[136], line 2\u001b[0m\n\u001b[0;32m      1\u001b[0m list1 \u001b[38;5;241m=\u001b[39m [\u001b[38;5;124m'\u001b[39m\u001b[38;5;124mSumana\u001b[39m\u001b[38;5;124m'\u001b[39m,\u001b[38;5;124m'\u001b[39m\u001b[38;5;124mSaru\u001b[39m\u001b[38;5;124m'\u001b[39m,\u001b[38;5;124m'\u001b[39m\u001b[38;5;124mAvinash\u001b[39m\u001b[38;5;124m'\u001b[39m,\u001b[38;5;124m'\u001b[39m\u001b[38;5;124mAbhi\u001b[39m\u001b[38;5;124m'\u001b[39m,\u001b[38;5;124m'\u001b[39m\u001b[38;5;124mAbhilash\u001b[39m\u001b[38;5;124m'\u001b[39m]\n\u001b[1;32m----> 2\u001b[0m \u001b[38;5;28mprint\u001b[39m(\u001b[38;5;28msorted\u001b[39m(list1, key\u001b[38;5;241m=\u001b[39m\u001b[38;5;28mlen\u001b[39m, reverse\u001b[38;5;241m=\u001b[39m\u001b[38;5;28;01mTrue\u001b[39;00m))\n",
      "\u001b[1;31mTypeError\u001b[0m: 'NoneType' object is not callable"
     ]
    }
   ],
   "source": [
    "list1 = ['Sumana','Saru','Avinash','Abhi','Abhilash']\n",
    "print(sorted(list1, key=len, reverse=True))"
   ]
  },
  {
   "cell_type": "code",
   "execution_count": 140,
   "id": "d037fbf8-c05f-4c31-a22f-43a86999f890",
   "metadata": {},
   "outputs": [
    {
     "data": {
      "text/plain": [
       "(3, 2, 1)"
      ]
     },
     "execution_count": 140,
     "metadata": {},
     "output_type": "execute_result"
    }
   ],
   "source": [
    "#q8 of tuple\n",
    "t=(1,2,3)\n",
    "*start, last = t[::-1]"
   ]
  },
  {
   "cell_type": "code",
   "execution_count": 148,
   "id": "0500ae72-1833-494f-9cde-cb0109c92d22",
   "metadata": {},
   "outputs": [
    {
     "data": {
      "text/plain": [
       "'Python'"
      ]
     },
     "execution_count": 148,
     "metadata": {},
     "output_type": "execute_result"
    }
   ],
   "source": [
    "t = ('P','y','t','h','o','n')\n",
    "\n",
    "#\"\".join(t)\n",
    "#str(t)\n",
    "\n",
    "\"\".join(t[0:])"
   ]
  },
  {
   "cell_type": "code",
   "execution_count": 150,
   "id": "871bcd0f-cb8a-4e1b-868d-d9c2905b3d17",
   "metadata": {},
   "outputs": [
    {
     "data": {
      "text/plain": [
       "4"
      ]
     },
     "execution_count": 150,
     "metadata": {},
     "output_type": "execute_result"
    }
   ],
   "source": [
    "t = ((1, 2), (3, 4), (5, 6))\n",
    "t[1][1]"
   ]
  },
  {
   "cell_type": "code",
   "execution_count": 156,
   "id": "911f5aeb-398a-4425-8e0e-f83a93fe266b",
   "metadata": {},
   "outputs": [
    {
     "data": {
      "text/plain": [
       "(2, 5, 2, 5, 2, 5, 2, 5, 2, 5)"
      ]
     },
     "execution_count": 156,
     "metadata": {},
     "output_type": "execute_result"
    }
   ],
   "source": [
    "(2,5)*5"
   ]
  },
  {
   "cell_type": "code",
   "execution_count": 166,
   "id": "58dc0aa3-60eb-4364-8b63-7deb46fc25a2",
   "metadata": {},
   "outputs": [
    {
     "data": {
      "text/plain": [
       "('a', 'b')"
      ]
     },
     "execution_count": 166,
     "metadata": {},
     "output_type": "execute_result"
    }
   ],
   "source": [
    "a = ('a', 'b', 'c', 'd', 'e')\n",
    "a[slice(2)]\n",
    "#a[:2]"
   ]
  },
  {
   "cell_type": "code",
   "execution_count": null,
   "id": "56a3fa0e-ec57-4e9d-800f-5ad4abaa00b3",
   "metadata": {},
   "outputs": [],
   "source": []
  }
 ],
 "metadata": {
  "kernelspec": {
   "display_name": "Python 3 (ipykernel)",
   "language": "python",
   "name": "python3"
  },
  "language_info": {
   "codemirror_mode": {
    "name": "ipython",
    "version": 3
   },
   "file_extension": ".py",
   "mimetype": "text/x-python",
   "name": "python",
   "nbconvert_exporter": "python",
   "pygments_lexer": "ipython3",
   "version": "3.12.4"
  }
 },
 "nbformat": 4,
 "nbformat_minor": 5
}
