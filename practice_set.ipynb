{
 "cells": [
  {
   "cell_type": "code",
   "execution_count": null,
   "id": "a94d44b9-df24-4ff4-8832-ca494adcc92c",
   "metadata": {},
   "outputs": [],
   "source": [
    "#set is\n",
    "set1={1,2}\n",
    "print(type(set1))"
   ]
  },
  {
   "cell_type": "code",
   "execution_count": null,
   "id": "19b840e6-aa49-44d8-833a-881324588ce8",
   "metadata": {},
   "outputs": [],
   "source": [
    "#adding new element in set\n",
    "set1.add(5)\n",
    "set"
   ]
  },
  {
   "cell_type": "code",
   "execution_count": null,
   "id": "533cee5f-7065-4cfe-8da5-c387275bbcf7",
   "metadata": {},
   "outputs": [],
   "source": [
    "#count the length \n",
    "nums = set([1,1,2,3,3,3,4])\n",
    "print(len(nums)) "
   ]
  },
  {
   "cell_type": "code",
   "execution_count": null,
   "id": "6f692d89-ab77-4756-909f-d0fafc9fd11c",
   "metadata": {},
   "outputs": [],
   "source": [
    "odd={1,3,5,7,9}\n",
    "even={2,4,6,8,0}\n",
    "prime={2,3,5,7,11}\n",
    "set1=odd.union(even)\n",
    "print(set1)\n",
    "set2=set1.difference(prime)\n",
    "print(set2)"
   ]
  },
  {
   "cell_type": "code",
   "execution_count": null,
   "id": "7fe9f02a-ef9f-4b33-8ce0-3c44af717660",
   "metadata": {},
   "outputs": [],
   "source": [
    "odd={1,3,5,7,9}\n",
    "odd[2]"
   ]
  },
  {
   "cell_type": "code",
   "execution_count": null,
   "id": "d726e5e1-8d31-4fd2-ba21-6f56eecb9e58",
   "metadata": {},
   "outputs": [],
   "source": [
    "set((1, 2, 3))\n"
   ]
  },
  {
   "cell_type": "code",
   "execution_count": null,
   "id": "457da999-bb29-4549-b5e2-ef15c3c1b15b",
   "metadata": {},
   "outputs": [],
   "source": [
    "set([1, 2, 3])"
   ]
  },
  {
   "cell_type": "code",
   "execution_count": null,
   "id": "a666c922-88ef-457d-aa1c-8654f1dcf6a7",
   "metadata": {},
   "outputs": [],
   "source": [
    "set(1,2,3)"
   ]
  },
  {
   "cell_type": "code",
   "execution_count": null,
   "id": "45fa8d87-98e5-40ce-a787-781986415cff",
   "metadata": {},
   "outputs": [],
   "source": [
    "\n",
    "{1, 2, 3}"
   ]
  },
  {
   "cell_type": "code",
   "execution_count": null,
   "id": "6f7626dc-7256-419a-b2e9-86ea493b4f6a",
   "metadata": {},
   "outputs": [],
   "source": [
    "s = {1, 2, 4}\n",
    "s.add(3)\n",
    "s.remove(2)\n",
    "s"
   ]
  },
  {
   "cell_type": "code",
   "execution_count": null,
   "id": "59e056ac-1002-437c-b862-a4fd3232eb66",
   "metadata": {},
   "outputs": [],
   "source": [
    "set('banana')"
   ]
  },
  {
   "cell_type": "code",
   "execution_count": null,
   "id": "c27da3ab-f544-471f-8ef1-1a0434f7f2f1",
   "metadata": {},
   "outputs": [],
   "source": [
    "\n",
    "A = {ord('A'), ord('B'), ord('C')}\n",
    "B = {97, 98, 99}"
   ]
  },
  {
   "cell_type": "code",
   "execution_count": 7,
   "id": "6c6df82b-5ee6-4559-9bb7-bce43752da80",
   "metadata": {},
   "outputs": [
    {
     "name": "stdin",
     "output_type": "stream",
     "text": [
      " PyPro\n"
     ]
    },
    {
     "name": "stdout",
     "output_type": "stream",
     "text": [
      "PyPro\n",
      "orPyP\n",
      "final o ORpYp\n"
     ]
    }
   ],
   "source": [
    "a=str(input())\n",
    "print(a)\n",
    "s=a[::-1]\n",
    "print(s)\n",
    "o=s.swapcase()\n",
    "print('final o',o)"
   ]
  },
  {
   "cell_type": "code",
   "execution_count": null,
   "id": "a503b276-ea64-4b2d-ba82-5a2727907e4f",
   "metadata": {},
   "outputs": [],
   "source": [
    "a1=a.upper()\n",
    "a1"
   ]
  },
  {
   "cell_type": "code",
   "execution_count": null,
   "id": "64bba84e-ea4d-4ba9-8023-35dc70b90556",
   "metadata": {},
   "outputs": [],
   "source": [
    "a"
   ]
  },
  {
   "cell_type": "code",
   "execution_count": null,
   "id": "0876af05-fc67-46eb-847b-a3195e8797dc",
   "metadata": {},
   "outputs": [],
   "source": [
    "a[::-1]"
   ]
  },
  {
   "cell_type": "code",
   "execution_count": null,
   "id": "46c12a79-f0a8-4cd4-b664-72cc53ae625d",
   "metadata": {},
   "outputs": [],
   "source": [
    "a.swapcse()"
   ]
  },
  {
   "cell_type": "code",
   "execution_count": 5,
   "id": "d886dfa9-c5f6-4fbe-9c15-0a04364f09a5",
   "metadata": {},
   "outputs": [
    {
     "name": "stdout",
     "output_type": "stream",
     "text": [
      "PythPro\n",
      "pYTHpRO\n"
     ]
    }
   ],
   "source": [
    "s='PythPro'\n",
    "output=s.swapcase()\n",
    "print(s)\n",
    "print(output)"
   ]
  },
  {
   "cell_type": "code",
   "execution_count": null,
   "id": "14b2130d-8f06-4fdc-9619-981305686749",
   "metadata": {},
   "outputs": [],
   "source": []
  }
 ],
 "metadata": {
  "kernelspec": {
   "display_name": "Python 3 (ipykernel)",
   "language": "python",
   "name": "python3"
  },
  "language_info": {
   "codemirror_mode": {
    "name": "ipython",
    "version": 3
   },
   "file_extension": ".py",
   "mimetype": "text/x-python",
   "name": "python",
   "nbconvert_exporter": "python",
   "pygments_lexer": "ipython3",
   "version": "3.12.4"
  }
 },
 "nbformat": 4,
 "nbformat_minor": 5
}
