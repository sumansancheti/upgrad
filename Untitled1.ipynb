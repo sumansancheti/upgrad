{
 "cells": [
  {
   "cell_type": "code",
   "execution_count": 1,
   "id": "bef724ad-f470-4627-9792-d8704343624b",
   "metadata": {},
   "outputs": [
    {
     "name": "stdout",
     "output_type": "stream",
     "text": [
      "['Abhilash', 'Avinash', 'Sumana', 'Saru', 'Abhi']\n"
     ]
    }
   ],
   "source": [
    "list1 = ['Sumana','Saru','Avinash','Abhi','Abhilash']\n",
    "print(sorted(list1, key=len, reverse=True))"
   ]
  },
  {
   "cell_type": "code",
   "execution_count": 5,
   "id": "01c35624-c0e0-43f8-b051-92c6a523caf1",
   "metadata": {},
   "outputs": [
    {
     "name": "stdout",
     "output_type": "stream",
     "text": [
      "{'a': 1, 'b': 2}\n"
     ]
    }
   ],
   "source": [
    "d = dict(a=1, b=2)\n",
    "print(d)"
   ]
  },
  {
   "cell_type": "code",
   "execution_count": 31,
   "id": "ea7d2c34-99d3-49d0-9c2d-6da9923d8652",
   "metadata": {},
   "outputs": [
    {
     "data": {
      "text/plain": [
       "{'Python': 40}"
      ]
     },
     "execution_count": 31,
     "metadata": {},
     "output_type": "execute_result"
    }
   ],
   "source": [
    "dict_1 = {\"Python\":40, \"R\":45}\n",
    "\n",
    "del dict_1[\"R\"]\n",
    "dict_1"
   ]
  },
  {
   "cell_type": "code",
   "execution_count": 37,
   "id": "ce41ed8b-3cb0-4541-b92f-13b15b021852",
   "metadata": {},
   "outputs": [
    {
     "data": {
      "text/plain": [
       "<zip at 0x251fda02700>"
      ]
     },
     "execution_count": 37,
     "metadata": {},
     "output_type": "execute_result"
    }
   ],
   "source": [
    "list1 = [\"A\", \"B\", \"C\"]\n",
    "list2 = [1, 2, 3]\n",
    "zip(list1 ,list2)"
   ]
  },
  {
   "cell_type": "code",
   "execution_count": 45,
   "id": "50d57c69-c0e1-4ca8-addb-9fd7ef7339a0",
   "metadata": {},
   "outputs": [
    {
     "name": "stdout",
     "output_type": "stream",
     "text": [
      "{'a': 1, 'b': 2, 'c': 3, 'd': 4}\n"
     ]
    }
   ],
   "source": [
    "dict1={\"a\":1,\"b\":2}\n",
    "dict2={\"c\":3,\"d\":4}\n",
    "dict1.update(dict2)\n",
    "print(dict1)"
   ]
  },
  {
   "cell_type": "code",
   "execution_count": 55,
   "id": "438ea3f5-2e7b-4c41-a00f-4ac3927d4b47",
   "metadata": {},
   "outputs": [
    {
     "ename": "SyntaxError",
     "evalue": "unterminated string literal (detected at line 1) (1686664148.py, line 1)",
     "output_type": "error",
     "traceback": [
      "\u001b[1;36m  Cell \u001b[1;32mIn[55], line 1\u001b[1;36m\u001b[0m\n\u001b[1;33m    country={\"England\":\"London”,\"Australia\":\"Sydney\",\"India\":1}\u001b[0m\n\u001b[1;37m                                                           ^\u001b[0m\n\u001b[1;31mSyntaxError\u001b[0m\u001b[1;31m:\u001b[0m unterminated string literal (detected at line 1)\n"
     ]
    }
   ],
   "source": [
    "country={\"England\":\"London”,\"Australia\":\"Sydney\",\"India\":1}\n"
   ]
  },
  {
   "cell_type": "code",
   "execution_count": 57,
   "id": "414adab5-2d6c-4590-b1b3-3dc52f40b268",
   "metadata": {},
   "outputs": [
    {
     "name": "stdout",
     "output_type": "stream",
     "text": [
      "['Python', 'R']\n"
     ]
    }
   ],
   "source": [
    "d = {'Python':40, 'R':45}\n",
    "print(list(d.keys()))"
   ]
  },
  {
   "cell_type": "code",
   "execution_count": 67,
   "id": "c5cbfdcb-7c8a-4fd5-919b-ae19d7551ff3",
   "metadata": {},
   "outputs": [],
   "source": [
    "scores = {'Math': 90, 'Science': 92, 'History': 88}\n",
    "\n",
    "value = scores.get('Science', None); del scores['Science']"
   ]
  },
  {
   "cell_type": "code",
   "execution_count": 69,
   "id": "846d4271-a0cb-4517-af4a-9c7e0b83d29d",
   "metadata": {},
   "outputs": [
    {
     "name": "stdout",
     "output_type": "stream",
     "text": [
      "Length of the dictionary: 5\n"
     ]
    }
   ],
   "source": [
    "my_dict = {\n",
    "    'key1': [1, 2, 3],\n",
    "    'key2': ['a', 'b', 'c'],\n",
    "    'key3': [True, False, True],\n",
    "    'key4': [0.1, 0.2, 0.3],\n",
    "    'key5': ['x', 'y', 'z']\n",
    "}\n",
    "\n",
    "length = len(my_dict)\n",
    "print(\"Length of the dictionary:\", length)"
   ]
  },
  {
   "cell_type": "code",
   "execution_count": 79,
   "id": "e35dddcc-4dc2-408e-a6f1-9b1a2195d91e",
   "metadata": {},
   "outputs": [
    {
     "data": {
      "text/plain": [
       "(1, 2, 3, 4, 5, 6, 7, 8)"
      ]
     },
     "execution_count": 79,
     "metadata": {},
     "output_type": "execute_result"
    }
   ],
   "source": [
    "a = (1, 2, 3, 4)\n",
    "b = (5, 6, 7, 8)\n",
    "a+=b\n",
    "a"
   ]
  },
  {
   "cell_type": "code",
   "execution_count": 81,
   "id": "561e01a4-ebd9-41af-a842-35ef843f5453",
   "metadata": {},
   "outputs": [
    {
     "data": {
      "text/plain": [
       "('H', 'e', 'l', 'l', 'o', ' ', 'W', 'o', 'r', 'l', 'd')"
      ]
     },
     "execution_count": 81,
     "metadata": {},
     "output_type": "execute_result"
    }
   ],
   "source": [
    "tuple('Hello World')"
   ]
  },
  {
   "cell_type": "code",
   "execution_count": 83,
   "id": "e328e702-3d4c-4c14-ac26-ce062e26e1b0",
   "metadata": {},
   "outputs": [],
   "source": [
    "t = (1,2,[3,4],5)"
   ]
  },
  {
   "cell_type": "code",
   "execution_count": 85,
   "id": "940ecdbc-d250-42d4-aa39-ecf67785bed3",
   "metadata": {},
   "outputs": [
    {
     "data": {
      "text/plain": [
       "(1, 2, [3, 4], 5)"
      ]
     },
     "execution_count": 85,
     "metadata": {},
     "output_type": "execute_result"
    }
   ],
   "source": [
    "t"
   ]
  },
  {
   "cell_type": "code",
   "execution_count": 89,
   "id": "a1a66e96-5078-4294-95fa-57874f769df2",
   "metadata": {},
   "outputs": [
    {
     "ename": "TypeError",
     "evalue": "'tuple' object does not support item assignment",
     "output_type": "error",
     "traceback": [
      "\u001b[1;31m---------------------------------------------------------------------------\u001b[0m",
      "\u001b[1;31mTypeError\u001b[0m                                 Traceback (most recent call last)",
      "Cell \u001b[1;32mIn[89], line 1\u001b[0m\n\u001b[1;32m----> 1\u001b[0m t[\u001b[38;5;241m2\u001b[39m]\u001b[38;5;241m=\u001b[39m[\u001b[38;5;241m4\u001b[39m,\u001b[38;5;241m4\u001b[39m]\n",
      "\u001b[1;31mTypeError\u001b[0m: 'tuple' object does not support item assignment"
     ]
    }
   ],
   "source": [
    "t[2]=[4,4]"
   ]
  },
  {
   "cell_type": "code",
   "execution_count": 93,
   "id": "8efc7b62-33c4-43ba-89a3-9dfe3544765b",
   "metadata": {},
   "outputs": [
    {
     "data": {
      "text/plain": [
       "1"
      ]
     },
     "execution_count": 93,
     "metadata": {},
     "output_type": "execute_result"
    }
   ],
   "source": [
    "('a', 'b', 'c', 'b', 'a').index('b', 1)"
   ]
  },
  {
   "cell_type": "code",
   "execution_count": 95,
   "id": "3ae35e03-431f-4e71-95f5-dfc4248cc1ce",
   "metadata": {},
   "outputs": [
    {
     "data": {
      "text/plain": [
       "(3, 4)"
      ]
     },
     "execution_count": 95,
     "metadata": {},
     "output_type": "execute_result"
    }
   ],
   "source": [
    "t = (0, 1, 2, 3, 4, 5)\n",
    "t[-3:-1]"
   ]
  },
  {
   "cell_type": "code",
   "execution_count": 101,
   "id": "6c3c560e-b62e-4e74-bdac-b7136cadcc77",
   "metadata": {},
   "outputs": [],
   "source": [
    "\n",
    "t=(1,2,3)\n",
    "*start, last = t[::-1]"
   ]
  },
  {
   "cell_type": "code",
   "execution_count": 103,
   "id": "76794213-7e7e-46ec-bc73-b14532bfbe31",
   "metadata": {},
   "outputs": [
    {
     "data": {
      "text/plain": [
       "(1, 2, 3)"
      ]
     },
     "execution_count": 103,
     "metadata": {},
     "output_type": "execute_result"
    }
   ],
   "source": [
    "t"
   ]
  },
  {
   "cell_type": "code",
   "execution_count": null,
   "id": "e8be72a3-ac86-4789-b17c-d787d92839a8",
   "metadata": {},
   "outputs": [],
   "source": []
  }
 ],
 "metadata": {
  "kernelspec": {
   "display_name": "Python 3 (ipykernel)",
   "language": "python",
   "name": "python3"
  },
  "language_info": {
   "codemirror_mode": {
    "name": "ipython",
    "version": 3
   },
   "file_extension": ".py",
   "mimetype": "text/x-python",
   "name": "python",
   "nbconvert_exporter": "python",
   "pygments_lexer": "ipython3",
   "version": "3.12.4"
  }
 },
 "nbformat": 4,
 "nbformat_minor": 5
}
