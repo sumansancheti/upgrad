{
 "cells": [
  {
   "cell_type": "code",
   "execution_count": null,
   "id": "dbf43869-f300-48dc-a57c-834e9e935d15",
   "metadata": {},
   "outputs": [],
   "source": [
    "#Sets are collections that are unordered and mutable.Sets are defined using curly braces {}."
   ]
  },
  {
   "cell_type": "code",
   "execution_count": 4,
   "id": "4a0b6dba-a11c-49e2-ad63-9b417ce68b53",
   "metadata": {},
   "outputs": [
    {
     "name": "stdout",
     "output_type": "stream",
     "text": [
      "set()\n",
      "<class 'set'>\n"
     ]
    }
   ],
   "source": [
    "#set constractore set()\n",
    "empty_set = set()\n",
    "print(empty_set) \n",
    "print(type(empty_set))"
   ]
  },
  {
   "cell_type": "code",
   "execution_count": 22,
   "id": "438916e8-60f6-43f2-8f97-c8ffb13465a4",
   "metadata": {},
   "outputs": [
    {
     "name": "stdout",
     "output_type": "stream",
     "text": [
      "{'blue', 'margenta', 'red', 'black', 'green'}\n"
     ]
    }
   ],
   "source": [
    "#You can create a set with multiple items by placing them within curly braces {}, separated by commas.\n",
    "#if you write the repeated iteam then set will consider first occurence.\n",
    "color_set = {'red', 'green', 'blue' ,'blue' ,'black', 'margenta'}\n",
    "print(color_set)  "
   ]
  },
  {
   "cell_type": "code",
   "execution_count": 24,
   "id": "17a543d4-6e49-421b-919d-77066ad4a1ca",
   "metadata": {},
   "outputs": [
    {
     "ename": "TypeError",
     "evalue": "'set' object is not subscriptable",
     "output_type": "error",
     "traceback": [
      "\u001b[1;31m---------------------------------------------------------------------------\u001b[0m",
      "\u001b[1;31mTypeError\u001b[0m                                 Traceback (most recent call last)",
      "Cell \u001b[1;32mIn[24], line 3\u001b[0m\n\u001b[0;32m      1\u001b[0m \u001b[38;5;66;03m#This means that you cannot access set items using numerical indices\u001b[39;00m\n\u001b[0;32m      2\u001b[0m example_set \u001b[38;5;241m=\u001b[39m {\u001b[38;5;241m1\u001b[39m, \u001b[38;5;241m2\u001b[39m, \u001b[38;5;241m3\u001b[39m}\n\u001b[1;32m----> 3\u001b[0m \u001b[38;5;28mprint\u001b[39m(example_set[\u001b[38;5;241m0\u001b[39m])\n",
      "\u001b[1;31mTypeError\u001b[0m: 'set' object is not subscriptable"
     ]
    }
   ],
   "source": [
    "#This means that you cannot access set items using numerical indices\n",
    "example_set = {1, 2, 3}\n",
    "print(example_set[0])  # This will raise an error"
   ]
  },
  {
   "cell_type": "code",
   "execution_count": 39,
   "id": "f47b5ca4-454d-40e6-afba-c8594bf43210",
   "metadata": {},
   "outputs": [
    {
     "name": "stdout",
     "output_type": "stream",
     "text": [
      "['apple', 'cherry', 'banana']\n",
      "<class 'list'>\n",
      "r\n"
     ]
    }
   ],
   "source": [
    "#Although direct access is not possible, if you need to access items by index, you can convert the set to a list or a tuple. \n",
    "example_set = {'apple', 'banana', 'cherry'}\n",
    "example_list= list(example_set)\n",
    "print(example_list)\n",
    "print(type(example_list))\n",
    "print(example_list[1][3])#indexing of index"
   ]
  },
  {
   "cell_type": "code",
   "execution_count": 55,
   "id": "451287b2-eaeb-4b1e-9758-2077cbc9b395",
   "metadata": {},
   "outputs": [
    {
     "name": "stdout",
     "output_type": "stream",
     "text": [
      "3\n"
     ]
    }
   ],
   "source": [
    "#find the len with len()\n",
    "print(len(example_set))"
   ]
  },
  {
   "cell_type": "code",
   "execution_count": 61,
   "id": "5f54f210-c3b4-4d0a-a5bb-57ff91f93b4d",
   "metadata": {},
   "outputs": [
    {
     "name": "stdout",
     "output_type": "stream",
     "text": [
      "True\n",
      "False\n",
      "False\n"
     ]
    }
   ],
   "source": [
    "#Checking the membership of an item in a set\n",
    "example_set = {'apple', 'banana', 'cherry'}\n",
    "print('banana' in example_set)\n",
    "print('Banana' in example_set) #python is case sensitive\n",
    "print('mango' in example_set)\n",
    "\n"
   ]
  },
  {
   "cell_type": "code",
   "execution_count": 69,
   "id": "cebc3301-597d-49dc-ad7d-040446432a95",
   "metadata": {},
   "outputs": [
    {
     "data": {
      "text/plain": [
       "{'apple', 'banana', 'cherry', 'mango'}"
      ]
     },
     "execution_count": 69,
     "metadata": {},
     "output_type": "execute_result"
    }
   ],
   "source": [
    "#add new iteam using .add()\n",
    "example_set = {'apple', 'banana', 'cherry'}\n",
    "example_set.add('mango')\n",
    "example_set.add('mango')#it will add only one if that iteam is exisite then it will never add\n",
    "example_set"
   ]
  },
  {
   "cell_type": "code",
   "execution_count": 71,
   "id": "75c923c9-ae06-4705-8532-e14d78496877",
   "metadata": {},
   "outputs": [
    {
     "ename": "TypeError",
     "evalue": "unhashable type: 'list'",
     "output_type": "error",
     "traceback": [
      "\u001b[1;31m---------------------------------------------------------------------------\u001b[0m",
      "\u001b[1;31mTypeError\u001b[0m                                 Traceback (most recent call last)",
      "Cell \u001b[1;32mIn[71], line 4\u001b[0m\n\u001b[0;32m      2\u001b[0m empty_set\u001b[38;5;241m=\u001b[39m\u001b[38;5;28mset\u001b[39m()\n\u001b[0;32m      3\u001b[0m new_list\u001b[38;5;241m=\u001b[39m[\u001b[38;5;241m3\u001b[39m,\u001b[38;5;241m6\u001b[39m,\u001b[38;5;241m75\u001b[39m,\u001b[38;5;241m54\u001b[39m]\n\u001b[1;32m----> 4\u001b[0m empty_set\u001b[38;5;241m.\u001b[39madd(new_list)\n\u001b[0;32m      5\u001b[0m \u001b[38;5;28mprint\u001b[39m(empty_set)\n",
      "\u001b[1;31mTypeError\u001b[0m: unhashable type: 'list'"
     ]
    }
   ],
   "source": [
    "#If we try to add a list to a set using the .add() method we get a TypeError.\n",
    "empty_set=set()\n",
    "new_list=[3,6,75,54]\n",
    "empty_set.add(new_list)\n",
    "print(empty_set)"
   ]
  },
  {
   "cell_type": "code",
   "execution_count": 75,
   "id": "d5a06354-5af2-4f40-9121-be3e818a8d6f",
   "metadata": {},
   "outputs": [
    {
     "name": "stdout",
     "output_type": "stream",
     "text": [
      "{54, 75, 3, 6}\n"
     ]
    }
   ],
   "source": [
    "# if we use the .update() function, instead of adding the list to the set, it updates the set with items from the list. \n",
    "empty_set=set()\n",
    "new_list=[3,6,75,54]\n",
    "empty_set.update(new_list)\n",
    "print(empty_set)"
   ]
  },
  {
   "cell_type": "code",
   "execution_count": 77,
   "id": "7fb9b008-564f-4a4d-a7bf-7e7b7e4cde12",
   "metadata": {},
   "outputs": [
    {
     "name": "stdout",
     "output_type": "stream",
     "text": [
      "{'apple', 'cherry', 'orange'}\n"
     ]
    }
   ],
   "source": [
    "#Removing items from sets\n",
    "example_set = {'apple', 'orange', 'cherry', 'banana'}\n",
    "example_set.remove('banana')\n",
    "print(example_set)"
   ]
  },
  {
   "cell_type": "code",
   "execution_count": 81,
   "id": "c5161d94-8c96-490b-8346-a53563000fb1",
   "metadata": {},
   "outputs": [
    {
     "ename": "KeyError",
     "evalue": "'banana'",
     "output_type": "error",
     "traceback": [
      "\u001b[1;31m---------------------------------------------------------------------------\u001b[0m",
      "\u001b[1;31mKeyError\u001b[0m                                  Traceback (most recent call last)",
      "Cell \u001b[1;32mIn[81], line 1\u001b[0m\n\u001b[1;32m----> 1\u001b[0m example_set\u001b[38;5;241m.\u001b[39mremove(\u001b[38;5;124m'\u001b[39m\u001b[38;5;124mbanana\u001b[39m\u001b[38;5;124m'\u001b[39m)\n\u001b[0;32m      2\u001b[0m \u001b[38;5;28mprint\u001b[39m(example_set)\n",
      "\u001b[1;31mKeyError\u001b[0m: 'banana'"
     ]
    }
   ],
   "source": [
    "example_set.remove('banana')\n",
    "print(example_set) #it'll rise a error that iteam u r deleting is not present."
   ]
  },
  {
   "cell_type": "code",
   "execution_count": 85,
   "id": "969544fd-c5c3-4e97-8717-d724d8b244e3",
   "metadata": {},
   "outputs": [
    {
     "name": "stdout",
     "output_type": "stream",
     "text": [
      "{'apple', 'cherry', 'orange'}\n"
     ]
    }
   ],
   "source": [
    "#The .discard() method is used to remove a specific item from the set. If the item is present in the set, it is removed.\n",
    "example_set = {'apple', 'orange', 'cherry'}\n",
    "example_set.discard('pear') \n",
    "print(example_set)#n this case, 'pear' is not an item of example_set, no error is raised, and the set remains unchanged."
   ]
  },
  {
   "cell_type": "code",
   "execution_count": 99,
   "id": "f2dbffb4-7826-44d7-8b62-52c60b6f0a25",
   "metadata": {},
   "outputs": [
    {
     "name": "stdout",
     "output_type": "stream",
     "text": [
      "kiwi\n",
      "{'orange', 'apple', 'mango', 'banana'}\n"
     ]
    }
   ],
   "source": [
    "#pop() will delete the single item from the set\n",
    "example_set = {'banana','apple' , 'mango','orange' ,'kiwi'}\n",
    "removed_item = example_set.pop() \n",
    "print(removed_item)#sets the function removes items randomly, due to their unordered nature\n",
    "print(example_set)"
   ]
  },
  {
   "cell_type": "code",
   "execution_count": 101,
   "id": "a4f6731f-8ad6-4c56-bd6d-53b9a9e2ec1a",
   "metadata": {},
   "outputs": [
    {
     "name": "stdout",
     "output_type": "stream",
     "text": [
      "True\n"
     ]
    }
   ],
   "source": [
    "#Checking the equality of two sets\n",
    "set1 = {1, 2, 3, 3}\n",
    "set2 = {3, 2, 1}\n",
    "print(set1 == set2)"
   ]
  },
  {
   "cell_type": "code",
   "execution_count": 107,
   "id": "54810baa-85fb-4a8a-b60e-c3a37e77f47b",
   "metadata": {},
   "outputs": [
    {
     "name": "stdout",
     "output_type": "stream",
     "text": [
      "True\n",
      "False\n"
     ]
    }
   ],
   "source": [
    "#string comparision\n",
    "first_st={'a','b','c'}\n",
    "second_st={'a','b','c'}\n",
    "print(first_st == second_st)\n",
    "\n",
    "first_str={'a','b','c','d'}\n",
    "second_str={'a','b','c'}\n",
    "print(first_str == second_str)"
   ]
  },
  {
   "cell_type": "code",
   "execution_count": 117,
   "id": "6cd69e4b-4c14-4de3-a0e2-ccb2e90ced5d",
   "metadata": {},
   "outputs": [
    {
     "name": "stdout",
     "output_type": "stream",
     "text": [
      "True\n",
      "False\n"
     ]
    }
   ],
   "source": [
    "#Subsets:-A set A is considered a subset of set B if every item of A is also an item of B. .issubset() \n",
    "set1 = {1, 2, 3}\n",
    "subset = {1, 2}\n",
    "print(subset.issubset(set1))\n",
    "print(set1.issubset(subset))"
   ]
  },
  {
   "cell_type": "code",
   "execution_count": 133,
   "id": "33086416-4808-4a65-9a18-1238ea360a63",
   "metadata": {},
   "outputs": [
    {
     "name": "stdout",
     "output_type": "stream",
     "text": [
      "{2, 3, 5, 6, 7}\n",
      "{2, 3, 5, 6, 7}\n",
      "Thuis is | opration {2, 3, 5, 6, 7}\n",
      "<class 'NoneType'>\n"
     ]
    }
   ],
   "source": [
    "#Finding the union of sets\n",
    "set1={2,5,6,7}\n",
    "set2={3,6,5,3}\n",
    "print(set1.union(set2))#You can use the .union() method to combine multiple sets.\n",
    "print(set2.union(set1))\n",
    "\n",
    "#Alternatively, you can use the | operator to find the union of two sets. This operator works similarly to the .union() method.\n",
    "a=print('Thuis is | opration',set1 | set2)\n",
    "print(type(a))"
   ]
  },
  {
   "cell_type": "code",
   "execution_count": 147,
   "id": "24364b70-2553-496e-bf10-f465a27259be",
   "metadata": {},
   "outputs": [
    {
     "name": "stdout",
     "output_type": "stream",
     "text": [
      "{2, 3}\n",
      "{3}\n",
      "{2, 3}\n",
      "{3}\n"
     ]
    }
   ],
   "source": [
    "#The intersection of two sets contains only the items that are present in both sets\n",
    "set1 = {1, 2, 3}\n",
    "set4 = {2, 3, 4}\n",
    "set2={3,6,1}\n",
    "print(set1.intersection(set4))\n",
    "print(set1.intersection(set2,set4))#to or more set intersection\n",
    "\n",
    "#You can also use the & operator to find the intersection of two sets\n",
    "print(set1 & set4 )\n",
    "print(set1 & set4 & set2)#to or more set intersection"
   ]
  },
  {
   "cell_type": "code",
   "execution_count": 157,
   "id": "05884b96-4dd7-43c1-98a9-810acf282349",
   "metadata": {},
   "outputs": [
    {
     "name": "stdout",
     "output_type": "stream",
     "text": [
      "{1, 6, 7}\n",
      "{4}\n"
     ]
    }
   ],
   "source": [
    "#To find the difference between two sets, you can use the .difference() method or the - operator.\n",
    "set1 = {1, 2, 3,6,7}\n",
    "set5 = {2, 3,4}\n",
    "print(set1.difference(set5))\n",
    "print(set5.difference(set1))"
   ]
  },
  {
   "cell_type": "code",
   "execution_count": 159,
   "id": "69cf3998-2d31-4b04-9f54-ddcbebddaf21",
   "metadata": {},
   "outputs": [
    {
     "name": "stdout",
     "output_type": "stream",
     "text": [
      "{1, 4}\n",
      "{1, 4}\n"
     ]
    }
   ],
   "source": [
    "#Finding the symmetric difference between two sets\n",
    "set1 = {1, 2, 3}\n",
    "set6 = {2, 3, 4}\n",
    "print(set1.symmetric_difference(set6))\n",
    "print(set6.symmetric_difference(set1))"
   ]
  },
  {
   "cell_type": "code",
   "execution_count": 163,
   "id": "dc169035-80cd-4a9c-8843-907f1f3777c8",
   "metadata": {},
   "outputs": [
    {
     "name": "stdout",
     "output_type": "stream",
     "text": [
      "True\n"
     ]
    }
   ],
   "source": [
    "#Two sets are disjoint if they have no common items\n",
    "set1 = {1, 2, 3}\n",
    "set6 = {4, 5, 6}\n",
    "print(set1.isdisjoint(set6))"
   ]
  },
  {
   "cell_type": "code",
   "execution_count": 165,
   "id": "459b1244-7445-44d4-bca7-5645c5070c82",
   "metadata": {},
   "outputs": [
    {
     "data": {
      "text/plain": [
       "{'Kunal', 'Rahul'}"
      ]
     },
     "execution_count": 165,
     "metadata": {},
     "output_type": "execute_result"
    }
   ],
   "source": [
    "credit_card = {'Rahul', 'Priya', 'Amit', 'Ananya', 'Raj', 'Kunal'}\n",
    "loan = {'Sonia', 'Vikram', 'Neha', 'Kunal', 'Anjali', 'Rahul'}\n",
    "credit_card.intersection(loan)"
   ]
  },
  {
   "cell_type": "code",
   "execution_count": 167,
   "id": "40f091e3-9ed9-4f63-bad7-b1cbd0bb9cfc",
   "metadata": {},
   "outputs": [
    {
     "data": {
      "text/plain": [
       "{'Amit', 'Ananya', 'Priya', 'Raj'}"
      ]
     },
     "execution_count": 167,
     "metadata": {},
     "output_type": "execute_result"
    }
   ],
   "source": [
    "credit_card.difference(loan)"
   ]
  },
  {
   "cell_type": "code",
   "execution_count": null,
   "id": "bff68956-8275-4f3e-a6ee-79ba37884668",
   "metadata": {},
   "outputs": [],
   "source": []
  }
 ],
 "metadata": {
  "kernelspec": {
   "display_name": "Python 3 (ipykernel)",
   "language": "python",
   "name": "python3"
  },
  "language_info": {
   "codemirror_mode": {
    "name": "ipython",
    "version": 3
   },
   "file_extension": ".py",
   "mimetype": "text/x-python",
   "name": "python",
   "nbconvert_exporter": "python",
   "pygments_lexer": "ipython3",
   "version": "3.12.4"
  }
 },
 "nbformat": 4,
 "nbformat_minor": 5
}
