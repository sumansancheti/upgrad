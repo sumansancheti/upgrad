{
 "cells": [
  {
   "cell_type": "code",
   "execution_count": 13,
   "id": "e7675c00-e95c-4542-9daa-cfb755a43feb",
   "metadata": {},
   "outputs": [],
   "source": [
    "string=\" \""
   ]
  },
  {
   "cell_type": "code",
   "execution_count": 15,
   "id": "ac26653e-05a5-405b-8f02-1f97ddd4a338",
   "metadata": {},
   "outputs": [
    {
     "data": {
      "text/plain": [
       "' '"
      ]
     },
     "execution_count": 15,
     "metadata": {},
     "output_type": "execute_result"
    }
   ],
   "source": [
    "string"
   ]
  },
  {
   "cell_type": "code",
   "execution_count": 17,
   "id": "84697fd5-8fb6-4d9a-8c27-d1bc451c4502",
   "metadata": {},
   "outputs": [
    {
     "name": "stdout",
     "output_type": "stream",
     "text": [
      " \n"
     ]
    }
   ],
   "source": [
    "print(string)"
   ]
  },
  {
   "cell_type": "code",
   "execution_count": 23,
   "id": "7c3dea55-4c30-4960-a7ae-3df06e468544",
   "metadata": {},
   "outputs": [
    {
     "name": "stdout",
     "output_type": "stream",
     "text": [
      "jj\n",
      "hey\n"
     ]
    }
   ],
   "source": [
    "\n",
    "t='''jj\n",
    "hey'''\n",
    "print(t)"
   ]
  },
  {
   "cell_type": "code",
   "execution_count": 47,
   "id": "3dd50855-64fd-43fe-a699-b21887e92358",
   "metadata": {},
   "outputs": [],
   "source": [
    "string='this is suman'"
   ]
  },
  {
   "cell_type": "code",
   "execution_count": 59,
   "id": "5f42ecc0-865d-43a3-9bdf-f746ba840b79",
   "metadata": {},
   "outputs": [
    {
     "name": "stdout",
     "output_type": "stream",
     "text": [
      "h\n"
     ]
    }
   ],
   "source": [
    "print(string[1:2])"
   ]
  },
  {
   "cell_type": "code",
   "execution_count": 67,
   "id": "12a8997a-4c4d-4128-a039-b7714d397ba4",
   "metadata": {},
   "outputs": [
    {
     "name": "stdout",
     "output_type": "stream",
     "text": [
      "i am 45year old\n"
     ]
    }
   ],
   "source": [
    "age=23\n",
    "age2='45'\n",
    "age_c=str(age)\n",
    "msg='i am '+ age2 + 'year old'\n",
    "print(msg)"
   ]
  },
  {
   "cell_type": "code",
   "execution_count": 69,
   "id": "8d4c559b-b2e7-4432-aac3-54078de1474d",
   "metadata": {},
   "outputs": [
    {
     "data": {
      "text/plain": [
       "str"
      ]
     },
     "execution_count": 69,
     "metadata": {},
     "output_type": "execute_result"
    }
   ],
   "source": [
    "type(msg)"
   ]
  },
  {
   "cell_type": "code",
   "execution_count": 107,
   "id": "90e36e7e-d90d-4cbc-9b7b-cf0cd7ec2546",
   "metadata": {},
   "outputs": [
    {
     "name": "stdout",
     "output_type": "stream",
     "text": [
      "hello\n"
     ]
    }
   ],
   "source": [
    "my_name='suman'\n",
    "print(str('hello'))"
   ]
  },
  {
   "cell_type": "code",
   "execution_count": 83,
   "id": "0726a57a-eccb-46f6-9091-f5413d7d5cb4",
   "metadata": {},
   "outputs": [
    {
     "name": "stdout",
     "output_type": "stream",
     "text": [
      "t\n"
     ]
    }
   ],
   "source": [
    "print('python'[2])"
   ]
  },
  {
   "cell_type": "code",
   "execution_count": 85,
   "id": "edec8763-3718-48ff-a72e-d4e749e6bb5f",
   "metadata": {},
   "outputs": [
    {
     "name": "stdout",
     "output_type": "stream",
     "text": [
      "programming\n"
     ]
    }
   ],
   "source": [
    "my_str=  'I find Python programming very interesting!'\n",
    "print(my_str[14:25])"
   ]
  },
  {
   "cell_type": "code",
   "execution_count": 87,
   "id": "76bfa88f-0056-4301-85ff-b429fbc796a1",
   "metadata": {},
   "outputs": [
    {
     "name": "stdout",
     "output_type": "stream",
     "text": [
      "programming\n"
     ]
    }
   ],
   "source": [
    "\n",
    "print(my_str[14:-18])"
   ]
  },
  {
   "cell_type": "code",
   "execution_count": 89,
   "id": "a2246ff8-cf54-4862-a8c9-eb67b7064a8e",
   "metadata": {},
   "outputs": [
    {
     "name": "stdout",
     "output_type": "stream",
     "text": [
      "programmin\n"
     ]
    }
   ],
   "source": [
    "print(my_str[14:24])"
   ]
  },
  {
   "cell_type": "code",
   "execution_count": 93,
   "id": "27b2ea6c-763e-437b-b13a-80dc5b7aea48",
   "metadata": {},
   "outputs": [
    {
     "name": "stdout",
     "output_type": "stream",
     "text": [
      "['I', 'find', 'Python', 'programming', 'very', 'interesting!']\n"
     ]
    }
   ],
   "source": [
    "\n",
    "print(my_str.split())"
   ]
  },
  {
   "cell_type": "code",
   "execution_count": 119,
   "id": "292d89be-2af3-4b74-83d9-8846bc30d34c",
   "metadata": {},
   "outputs": [
    {
     "name": "stdout",
     "output_type": "stream",
     "text": [
      "Is 'World' present in the string? True\n"
     ]
    }
   ],
   "source": [
    "my_string = 'Hello, World! world world world' \n",
    "substring_present = 'World' in my_string\n",
    "print(\"Is 'World' present in the string?\", substring_present)"
   ]
  },
  {
   "cell_type": "code",
   "execution_count": 97,
   "id": "bc47fcf5-a70e-4ab7-9aba-cc71cae7ea63",
   "metadata": {},
   "outputs": [],
   "source": [
    "my_string = 'Hello, World!'\n",
    "index_of_o = my_string.index('o')"
   ]
  },
  {
   "cell_type": "code",
   "execution_count": 99,
   "id": "7892dc6d-f3f5-4029-be5a-f5fe1a3a5636",
   "metadata": {},
   "outputs": [
    {
     "name": "stdout",
     "output_type": "stream",
     "text": [
      "4\n"
     ]
    }
   ],
   "source": [
    "print(index_of_o)"
   ]
  },
  {
   "cell_type": "code",
   "execution_count": 123,
   "id": "e610ee89-081c-49a7-97d3-84ab38eaa865",
   "metadata": {},
   "outputs": [
    {
     "name": "stdout",
     "output_type": "stream",
     "text": [
      "Index of 'World':  5\n"
     ]
    }
   ],
   "source": [
    "index_of_World = my_string.count('o')\n",
    "print(\"Index of 'World': \", index_of_World)"
   ]
  },
  {
   "cell_type": "code",
   "execution_count": 129,
   "id": "e4c9ca5c-0cdd-411c-b223-24b7ac9a806c",
   "metadata": {},
   "outputs": [
    {
     "name": "stdout",
     "output_type": "stream",
     "text": [
      "ASCII value of 'a':  103\n",
      "ASCII value of 'A':  65\n",
      "ASCII value of '0':  48\n"
     ]
    }
   ],
   "source": [
    "ascii_a = ord('g')\n",
    "ascii_A = ord('A')\n",
    "ascii_0 = ord('0')\n",
    "# Print the results\n",
    "print(\"ASCII value of 'a': \", ascii_a)\n",
    "print(\"ASCII value of 'A': \", ascii_A)\n",
    "print(\"ASCII value of '0': \", ascii_0)"
   ]
  },
  {
   "cell_type": "code",
   "execution_count": 131,
   "id": "2424d310-7f85-4915-a1ff-5db45e9b0039",
   "metadata": {},
   "outputs": [
    {
     "name": "stdout",
     "output_type": "stream",
     "text": [
      "ASCII value of 'h':  104\n",
      "ASCII value of 'w':  119\n",
      "Is 'hello' less than 'world'?  True\n"
     ]
    }
   ],
   "source": [
    "print(\"ASCII value of 'h': \", ord('h'))\n",
    "print(\"ASCII value of 'w': \", ord('w'))\n",
    "comparison_result = 'hello' < 'world'\n",
    "print(\"Is 'hello' less than 'world'? \", comparison_result)"
   ]
  },
  {
   "cell_type": "code",
   "execution_count": 133,
   "id": "61d15397-585c-4983-a392-8e61d41dd3f1",
   "metadata": {},
   "outputs": [
    {
     "name": "stdout",
     "output_type": "stream",
     "text": [
      "The Sound And The Fury\n"
     ]
    }
   ],
   "source": [
    "book = \"the sound and the fury\"\n",
    "print(book.title())"
   ]
  },
  {
   "cell_type": "code",
   "execution_count": 139,
   "id": "99471ba4-86f1-4217-b9b0-4634033f8b21",
   "metadata": {},
   "outputs": [
    {
     "data": {
      "text/plain": [
       "False"
      ]
     },
     "execution_count": 139,
     "metadata": {},
     "output_type": "execute_result"
    }
   ],
   "source": [
    " my_str=  'I find Python programming very interesting!'\n",
    "'I fin' in my_str or '!!' in my_str\n",
    " '!!' in my_str"
   ]
  },
  {
   "cell_type": "code",
   "execution_count": 149,
   "id": "fbffef15-f01d-4d06-a3d4-bd3a0e798e10",
   "metadata": {},
   "outputs": [
    {
     "name": "stdout",
     "output_type": "stream",
     "text": [
      "<class 'list'>\n",
      "[1, 2, 3, [5, 6, 7], 8]\n"
     ]
    }
   ],
   "source": [
    "a= [1,2,3,5,[5,6,7],8]\n",
    "print(type(a))\n",
    "del a[3]\n",
    "print(a)"
   ]
  },
  {
   "cell_type": "code",
   "execution_count": 171,
   "id": "9952f655-d982-4f91-91ec-a2da3ebc8a47",
   "metadata": {},
   "outputs": [
    {
     "name": "stdout",
     "output_type": "stream",
     "text": [
      "[90, 67, 34, 32, 8, 1]\n"
     ]
    }
   ],
   "source": [
    "my_list = [34, 1, 67, 32, 8, 90]\n",
    "my_list.sort(reverse=True)\n",
    "print(my_list)"
   ]
  },
  {
   "cell_type": "code",
   "execution_count": 167,
   "id": "b65a2f6e-b280-4fe0-b552-9ac5d6967732",
   "metadata": {},
   "outputs": [
    {
     "name": "stdout",
     "output_type": "stream",
     "text": [
      "[3, 3, 7, 45, 55, 67, 89]\n"
     ]
    }
   ],
   "source": [
    "my_list = [45,7,3,67,89,55,3]\n",
    "my_list.sort()\n",
    "print(my_list)"
   ]
  },
  {
   "cell_type": "code",
   "execution_count": 175,
   "id": "76eb4870-5336-4565-af4a-b150d8003a04",
   "metadata": {},
   "outputs": [
    {
     "name": "stdout",
     "output_type": "stream",
     "text": [
      "['first', 'fourth', 'second', 'third']\n"
     ]
    }
   ],
   "source": [
    "\n",
    "my_list = ['first', 'second', 'third', 'fourth']\n",
    "my_list.sort()\n",
    "print(my_list)"
   ]
  },
  {
   "cell_type": "code",
   "execution_count": 187,
   "id": "0f174653-2213-4f04-9198-2f4753ddf54c",
   "metadata": {},
   "outputs": [
    {
     "ename": "TypeError",
     "evalue": "can only concatenate list (not \"str\") to list",
     "output_type": "error",
     "traceback": [
      "\u001b[1;31m---------------------------------------------------------------------------\u001b[0m",
      "\u001b[1;31mTypeError\u001b[0m                                 Traceback (most recent call last)",
      "Cell \u001b[1;32mIn[187], line 4\u001b[0m\n\u001b[0;32m      1\u001b[0m languages\u001b[38;5;241m=\u001b[39m[\u001b[38;5;124m'\u001b[39m\u001b[38;5;124mi\u001b[39m\u001b[38;5;124m'\u001b[39m,\u001b[38;5;124m'\u001b[39m\u001b[38;5;124mpy\u001b[39m\u001b[38;5;124m'\u001b[39m]\n\u001b[0;32m      3\u001b[0m \u001b[38;5;66;03m#languages = languages + ['Python']\u001b[39;00m\n\u001b[1;32m----> 4\u001b[0m languages \u001b[38;5;241m=\u001b[39m languages \u001b[38;5;241m+\u001b[39m \u001b[38;5;124m'\u001b[39m\u001b[38;5;124mPython\u001b[39m\u001b[38;5;124m'\u001b[39m\n\u001b[0;32m      5\u001b[0m \u001b[38;5;28mprint\u001b[39m(languages)\n",
      "\u001b[1;31mTypeError\u001b[0m: can only concatenate list (not \"str\") to list"
     ]
    }
   ],
   "source": [
    "languages=['i','py']\n",
    "\n",
    "#languages = languages + ['Python']\n",
    "languages = languages + 'Python'\n",
    "print(languages)"
   ]
  },
  {
   "cell_type": "code",
   "execution_count": 191,
   "id": "9ebb82de-4c14-4a86-9c65-e06b55207864",
   "metadata": {},
   "outputs": [
    {
     "name": "stdout",
     "output_type": "stream",
     "text": [
      "{'name': 'Dinesh', 'age': 45, 'married': True, 'BE': 'qualification'}\n"
     ]
    }
   ],
   "source": [
    "person = {'name': 'Dinesh', 'age': 45, 'married': True, 'BE' : 'qualification'}\n",
    "print(person)"
   ]
  },
  {
   "cell_type": "code",
   "execution_count": 201,
   "id": "a34a6653-ff78-4527-a6f0-5e789429ead6",
   "metadata": {},
   "outputs": [
    {
     "ename": "KeyError",
     "evalue": "'Dinesh'",
     "output_type": "error",
     "traceback": [
      "\u001b[1;31m---------------------------------------------------------------------------\u001b[0m",
      "\u001b[1;31mKeyError\u001b[0m                                  Traceback (most recent call last)",
      "Cell \u001b[1;32mIn[201], line 1\u001b[0m\n\u001b[1;32m----> 1\u001b[0m \u001b[38;5;28mprint\u001b[39m(person[\u001b[38;5;124m\"\u001b[39m\u001b[38;5;124mDinesh\u001b[39m\u001b[38;5;124m\"\u001b[39m])\n",
      "\u001b[1;31mKeyError\u001b[0m: 'Dinesh'"
     ]
    }
   ],
   "source": [
    "print(person[\"Dinesh\"])"
   ]
  },
  {
   "cell_type": "code",
   "execution_count": 203,
   "id": "681b75f3-4227-49ee-bfad-ab344052dd8a",
   "metadata": {},
   "outputs": [
    {
     "name": "stdout",
     "output_type": "stream",
     "text": [
      "30\n"
     ]
    }
   ],
   "source": [
    "person = {'name': 'John', 'age': 30}\n",
    "#person_age = person.get('age')\n",
    "print(person.get('age'))"
   ]
  },
  {
   "cell_type": "code",
   "execution_count": 207,
   "id": "b385272a-40b4-407e-95a4-1db3c66bc812",
   "metadata": {},
   "outputs": [
    {
     "name": "stdout",
     "output_type": "stream",
     "text": [
      "{'name': 'Alice', 'age': 25}\n",
      "{'name': 'Bob', 'age': 30}\n",
      "False\n"
     ]
    }
   ],
   "source": [
    "dict_a = {'name': 'Alice', 'age': 25}\n",
    "dict_b = {'name': 'Bob', 'age': 30}\n",
    "is_same = set(dict_a.items()) == set(dict_b.items())\n",
    "print(dict_a)\n",
    "print(dict_b)\n",
    "print(is_same)"
   ]
  },
  {
   "cell_type": "code",
   "execution_count": 213,
   "id": "3bff80a9-f764-4a2c-b925-df7f41d390a3",
   "metadata": {},
   "outputs": [
    {
     "name": "stdout",
     "output_type": "stream",
     "text": [
      "30\n",
      "{'eye_color': 'blue'}\n"
     ]
    }
   ],
   "source": [
    "person = {'name': 'John', 'age': 30, 'eye_color': 'blue'}\n",
    "pop_removed_entry = person.pop('age')\n",
    "del person['name'] # Remove item with key 'eye_color'  \n",
    "print(pop_removed_entry)\n",
    "print(person)\n",
    "\n",
    "\n"
   ]
  },
  {
   "cell_type": "code",
   "execution_count": 221,
   "id": "5a187381-60eb-4524-9219-91da889901d2",
   "metadata": {},
   "outputs": [
    {
     "name": "stdout",
     "output_type": "stream",
     "text": [
      "{'name': 'John', 'age': 25, 'married': False}\n"
     ]
    }
   ],
   "source": [
    "person = {'name': 'John', 'age': 30}\n",
    "additinoal_info = {'age': 25, 'married': False}\n",
    "\n",
    "\n",
    "merged_dict = person | additional_info\n",
    "#merge_dic={**person,**additinoal_info}\n",
    "print(merge_dic)"
   ]
  },
  {
   "cell_type": "code",
   "execution_count": 219,
   "id": "6af7f05f-ed3c-4897-8ff2-8b374a649e8d",
   "metadata": {},
   "outputs": [
    {
     "name": "stdout",
     "output_type": "stream",
     "text": [
      "True\n"
     ]
    }
   ],
   "source": [
    "print(additional_info == additinoal_info)"
   ]
  },
  {
   "cell_type": "code",
   "execution_count": 225,
   "id": "87f2f57d-9087-4a7f-b111-f2b68aa356da",
   "metadata": {},
   "outputs": [
    {
     "ename": "AttributeError",
     "evalue": "'dict' object has no attribute 'add'",
     "output_type": "error",
     "traceback": [
      "\u001b[1;31m---------------------------------------------------------------------------\u001b[0m",
      "\u001b[1;31mAttributeError\u001b[0m                            Traceback (most recent call last)",
      "Cell \u001b[1;32mIn[225], line 2\u001b[0m\n\u001b[0;32m      1\u001b[0m employee \u001b[38;5;241m=\u001b[39m {\u001b[38;5;124m'\u001b[39m\u001b[38;5;124mname\u001b[39m\u001b[38;5;124m'\u001b[39m: \u001b[38;5;124m'\u001b[39m\u001b[38;5;124mVidya\u001b[39m\u001b[38;5;124m'\u001b[39m, \u001b[38;5;124m'\u001b[39m\u001b[38;5;124mgender\u001b[39m\u001b[38;5;124m'\u001b[39m: \u001b[38;5;124m'\u001b[39m\u001b[38;5;124mF\u001b[39m\u001b[38;5;124m'\u001b[39m, \u001b[38;5;124m'\u001b[39m\u001b[38;5;124mage\u001b[39m\u001b[38;5;124m'\u001b[39m: \u001b[38;5;241m25\u001b[39m}\n\u001b[1;32m----> 2\u001b[0m employee\u001b[38;5;241m.\u001b[39madd(\u001b[38;5;124m'\u001b[39m\u001b[38;5;124mcity\u001b[39m\u001b[38;5;124m'\u001b[39m, \u001b[38;5;124m'\u001b[39m\u001b[38;5;124mChennai\u001b[39m\u001b[38;5;124m'\u001b[39m)\n",
      "\u001b[1;31mAttributeError\u001b[0m: 'dict' object has no attribute 'add'"
     ]
    }
   ],
   "source": [
    "employee = {'name': 'Vidya', 'gender': 'F', 'age': 25}\n",
    "employee.add('city', 'Chennai')"
   ]
  },
  {
   "cell_type": "code",
   "execution_count": 227,
   "id": "f2ff6b56-cc36-4402-b8c5-8c2500d8a13c",
   "metadata": {},
   "outputs": [],
   "source": [
    "employee['city']='Chennai'"
   ]
  },
  {
   "cell_type": "code",
   "execution_count": 229,
   "id": "80f630ea-3c4d-4010-a63c-49eb702bfbb1",
   "metadata": {},
   "outputs": [
    {
     "name": "stdout",
     "output_type": "stream",
     "text": [
      "{'name': 'Vidya', 'gender': 'F', 'age': 25, 'city': 'Chennai'}\n"
     ]
    }
   ],
   "source": [
    "print(employee)"
   ]
  },
  {
   "cell_type": "code",
   "execution_count": 233,
   "id": "59b41914-386e-441a-8ca1-c849e24269e4",
   "metadata": {},
   "outputs": [],
   "source": [
    "employee.update({'city': 'Chennai'})"
   ]
  },
  {
   "cell_type": "code",
   "execution_count": 261,
   "id": "7b76025b-590f-42c3-a8fe-0b67681c16ae",
   "metadata": {},
   "outputs": [
    {
     "name": "stdout",
     "output_type": "stream",
     "text": [
      "<class 'tuple'>\n",
      "(1, 4, 'i')\n"
     ]
    }
   ],
   "source": [
    "my_tuple = (1,4,'i')\n",
    "print(type(my_tuple))\n",
    "print(my_tuple)"
   ]
  },
  {
   "cell_type": "code",
   "execution_count": 263,
   "id": "43fb73ca-d74f-4b5e-a03b-5e31eb3b117a",
   "metadata": {},
   "outputs": [
    {
     "ename": "TypeError",
     "evalue": "'tuple' object is not callable",
     "output_type": "error",
     "traceback": [
      "\u001b[1;31m---------------------------------------------------------------------------\u001b[0m",
      "\u001b[1;31mTypeError\u001b[0m                                 Traceback (most recent call last)",
      "Cell \u001b[1;32mIn[263], line 2\u001b[0m\n\u001b[0;32m      1\u001b[0m my_string \u001b[38;5;241m=\u001b[39m \u001b[38;5;124m'\u001b[39m\u001b[38;5;124mhello\u001b[39m\u001b[38;5;124m'\u001b[39m\n\u001b[1;32m----> 2\u001b[0m my_tuple \u001b[38;5;241m=\u001b[39m \u001b[38;5;28mtuple\u001b[39m(my_string)\n\u001b[0;32m      3\u001b[0m \u001b[38;5;28mprint\u001b[39m(my_tuple)\n",
      "\u001b[1;31mTypeError\u001b[0m: 'tuple' object is not callable"
     ]
    }
   ],
   "source": [
    "my_string = 'hello'\n",
    "my_tuple = tuple(my_string)\n",
    "print(my_tuple)"
   ]
  },
  {
   "cell_type": "code",
   "execution_count": 265,
   "id": "96da8064-453f-4c7c-bffe-b27daec5695a",
   "metadata": {},
   "outputs": [
    {
     "ename": "TypeError",
     "evalue": "'tuple' object is not callable",
     "output_type": "error",
     "traceback": [
      "\u001b[1;31m---------------------------------------------------------------------------\u001b[0m",
      "\u001b[1;31mTypeError\u001b[0m                                 Traceback (most recent call last)",
      "Cell \u001b[1;32mIn[265], line 1\u001b[0m\n\u001b[1;32m----> 1\u001b[0m empty_tuple \u001b[38;5;241m=\u001b[39m \u001b[38;5;28mtuple\u001b[39m()\n",
      "\u001b[1;31mTypeError\u001b[0m: 'tuple' object is not callable"
     ]
    }
   ],
   "source": [
    "empty_tuple = tuple()"
   ]
  },
  {
   "cell_type": "code",
   "execution_count": null,
   "id": "d947f64c-91ff-44f9-9e53-b5d3c524019a",
   "metadata": {},
   "outputs": [],
   "source": []
  },
  {
   "cell_type": "code",
   "execution_count": 274,
   "id": "4c1b03d7-4045-4a85-b94f-18788399bb6f",
   "metadata": {},
   "outputs": [
    {
     "name": "stdout",
     "output_type": "stream",
     "text": [
      "<class 'tuple'>\n",
      "()\n"
     ]
    }
   ],
   "source": [
    "empty_tuple = ()\n",
    "print(type(empty_tuple))\n",
    "print(empty_tuple)\n"
   ]
  },
  {
   "cell_type": "code",
   "execution_count": 278,
   "id": "8bce6d6d-5de8-44a0-80ee-09603fd59dc2",
   "metadata": {},
   "outputs": [
    {
     "ename": "TypeError",
     "evalue": "'tuple' object is not callable",
     "output_type": "error",
     "traceback": [
      "\u001b[1;31m---------------------------------------------------------------------------\u001b[0m",
      "\u001b[1;31mTypeError\u001b[0m                                 Traceback (most recent call last)",
      "Cell \u001b[1;32mIn[278], line 2\u001b[0m\n\u001b[0;32m      1\u001b[0m my_string \u001b[38;5;241m=\u001b[39m \u001b[38;5;124m'\u001b[39m\u001b[38;5;124mhello,\u001b[39m\u001b[38;5;124m'\u001b[39m\n\u001b[1;32m----> 2\u001b[0m my_tuple \u001b[38;5;241m=\u001b[39m \u001b[38;5;28mtuple\u001b[39m(my_string)\n\u001b[0;32m      3\u001b[0m \u001b[38;5;28mprint\u001b[39m(my_tuple)\n",
      "\u001b[1;31mTypeError\u001b[0m: 'tuple' object is not callable"
     ]
    }
   ],
   "source": [
    "my_string = 'hello,'\n",
    "my_tuple = tuple(my_string)\n",
    "print(my_tuple)"
   ]
  },
  {
   "cell_type": "code",
   "execution_count": 284,
   "id": "1aa20164-0791-41c7-b782-0792679156a1",
   "metadata": {},
   "outputs": [
    {
     "name": "stdout",
     "output_type": "stream",
     "text": [
      "('h', 'e', 'l', 'l', 'o')\n",
      "<class 'tuple'>\n"
     ]
    }
   ],
   "source": [
    "t=('h', 'e', 'l', 'l', 'o')\n",
    "print(t)\n",
    "print(type(t))"
   ]
  },
  {
   "cell_type": "code",
   "execution_count": 286,
   "id": "df82e6b6-24c8-42e3-b70e-ae1949d06f07",
   "metadata": {},
   "outputs": [
    {
     "ename": "TypeError",
     "evalue": "'tuple' object is not callable",
     "output_type": "error",
     "traceback": [
      "\u001b[1;31m---------------------------------------------------------------------------\u001b[0m",
      "\u001b[1;31mTypeError\u001b[0m                                 Traceback (most recent call last)",
      "Cell \u001b[1;32mIn[286], line 3\u001b[0m\n\u001b[0;32m      1\u001b[0m list1 \u001b[38;5;241m=\u001b[39m [\u001b[38;5;241m1\u001b[39m, \u001b[38;5;241m2\u001b[39m, \u001b[38;5;241m3\u001b[39m]\n\u001b[0;32m      2\u001b[0m list2 \u001b[38;5;241m=\u001b[39m [\u001b[38;5;124m'\u001b[39m\u001b[38;5;124ma\u001b[39m\u001b[38;5;124m'\u001b[39m, \u001b[38;5;124m'\u001b[39m\u001b[38;5;124mb\u001b[39m\u001b[38;5;124m'\u001b[39m, \u001b[38;5;124m'\u001b[39m\u001b[38;5;124mc\u001b[39m\u001b[38;5;124m'\u001b[39m]\n\u001b[1;32m----> 3\u001b[0m zipped \u001b[38;5;241m=\u001b[39m \u001b[38;5;28mtuple\u001b[39m(\u001b[38;5;28mzip\u001b[39m(list1, list2))\n\u001b[0;32m      4\u001b[0m \u001b[38;5;28mprint\u001b[39m(zipped)\n",
      "\u001b[1;31mTypeError\u001b[0m: 'tuple' object is not callable"
     ]
    }
   ],
   "source": [
    "list1 = [1, 2, 3]\n",
    "list2 = ['a', 'b', 'c']\n",
    "zipped = tuple(zip(list1, list2))\n",
    "print(zipped)"
   ]
  },
  {
   "cell_type": "code",
   "execution_count": null,
   "id": "c7450b8b-4985-4d6b-9167-319c0ce1b461",
   "metadata": {},
   "outputs": [],
   "source": [
    "\n",
    "\n",
    "\n"
   ]
  }
 ],
 "metadata": {
  "kernelspec": {
   "display_name": "Python 3 (ipykernel)",
   "language": "python",
   "name": "python3"
  },
  "language_info": {
   "codemirror_mode": {
    "name": "ipython",
    "version": 3
   },
   "file_extension": ".py",
   "mimetype": "text/x-python",
   "name": "python",
   "nbconvert_exporter": "python",
   "pygments_lexer": "ipython3",
   "version": "3.12.4"
  }
 },
 "nbformat": 4,
 "nbformat_minor": 5
}
